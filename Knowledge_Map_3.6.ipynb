{
 "cells": [
  {
   "cell_type": "code",
   "execution_count": null,
   "id": "82fed2cf",
   "metadata": {},
   "outputs": [],
   "source": [
    "from pyvis.network import Network\n",
    "import pandas as pd"
   ]
  },
  {
   "cell_type": "code",
   "execution_count": null,
   "id": "7ff1f3c8-5abf-47db-8122-938438579e06",
   "metadata": {},
   "outputs": [],
   "source": [
    "pip install palettable"
   ]
  },
  {
   "cell_type": "code",
   "execution_count": null,
   "id": "09bbe030",
   "metadata": {},
   "outputs": [],
   "source": [
    "week_keyword = pd.read_excel(\"../../../../yyaxuan/Documents/repo/TLT_Lab/week_keyword_table_s01_2021.xlsx\",index_col=0)\n",
    "keyword_category = pd.read_excel(\"../../../../yyaxuan/Documents/repo/TLT_Lab/keyword_category_table.xlsx\",index_col=0)"
   ]
  },
  {
   "cell_type": "code",
   "execution_count": null,
   "id": "30844191",
   "metadata": {},
   "outputs": [],
   "source": [
    "print(week_keyword)\n",
    "print(keyword_category)"
   ]
  },
  {
   "cell_type": "code",
   "execution_count": null,
   "id": "d61ed928",
   "metadata": {},
   "outputs": [],
   "source": [
    "keywords = list(week_keyword.head())\n",
    "print(keywords)"
   ]
  },
  {
   "cell_type": "code",
   "execution_count": null,
   "id": "d4186989",
   "metadata": {},
   "outputs": [],
   "source": [
    "# the number shows which category the keyword belongs to\n",
    "keywords_group = keyword_category.iloc[:, 0].to_numpy()\n",
    "print(keywords_group)"
   ]
  },
  {
   "cell_type": "code",
   "execution_count": null,
   "id": "f7855c64",
   "metadata": {},
   "outputs": [],
   "source": [
    "# extract each week's keyword list\n",
    "week1 = week_keyword.iloc[0].to_numpy()\n",
    "week2 = week_keyword.iloc[1].to_numpy()\n",
    "week3 = week_keyword.iloc[2].to_numpy()\n",
    "print(week1)\n",
    "print(week2)\n",
    "print(week3)"
   ]
  },
  {
   "cell_type": "code",
   "execution_count": null,
   "id": "ffd85749",
   "metadata": {},
   "outputs": [],
   "source": [
    "# create gradient color for each week's nodes\n",
    "from palettable.colorbrewer.sequential import Blues_3\n",
    "palette = Blues_3.hex_colors\n",
    "print(palette)\n",
    "palette[0]"
   ]
  },
  {
   "cell_type": "code",
   "execution_count": null,
   "id": "0fd770b0",
   "metadata": {},
   "outputs": [],
   "source": [
    "net1 = Network(notebook=True, #heading=\"Individual Knowledge Map Week 1\"\n",
    "              )\n",
    "\n",
    "# cacluates the number of occurences for each keywork for week 1\n",
    "occurence_week1 = week_keyword.iloc[:1].sum()\n",
    "    \n",
    "for i, value in enumerate(week1):\n",
    "    if value == 1:\n",
    "        net1.add_node(i, label=keywords[i], title='Week1',size=(int(occurence_week1[i])+1)*3, color=palette[0])\n",
    "\n",
    "# show the all node ids we have in the net\n",
    "net1_id = [dic['id'] for dic in net1.nodes]\n",
    "print(net1_id)\n",
    "\n",
    "for i in net1_id:\n",
    "    for j in net1_id:\n",
    "        if i != j and keywords_group[i] == keywords_group[j]:\n",
    "            net1.add_edge(i,j)\n",
    "            \n",
    "\n",
    "               \n",
    "net1.show(\"social_network1.html\")"
   ]
  },
  {
   "cell_type": "code",
   "execution_count": null,
   "id": "1c091847",
   "metadata": {},
   "outputs": [],
   "source": [
    "net2 = Network(notebook=True, #heading=\"Individual Knowledge Map Week 2\",\n",
    "               filter_menu=True,cdn_resources = 'remote')\n",
    "\n",
    "# cacluates the number of occurences for each keywork for week 1 & week2 in total\n",
    "occurence_week2 = week_keyword.iloc[:2].sum()\n",
    "    \n",
    "for i, value in  enumerate(week1):\n",
    "    if value == 1:\n",
    "        net2.add_node(i, label=keywords[i], title='Week1', size=(int(occurence_week2[i])+1)*3, color=palette[0])\n",
    "\n",
    "for i, value in  enumerate(week2):\n",
    "    if value == 1:\n",
    "        net2.add_node(i, label=keywords[i], title='Week2', size=(int(occurence_week2[i])+1)*3, color=palette[1])\n",
    "\n",
    "# show the all node ids we have in the net\n",
    "net2_id = [dic['id'] for dic in net2.nodes]\n",
    "print(net2_id)\n",
    "\n",
    "for i in net2_id:\n",
    "    for j in net2_id:\n",
    "        if i != j and keywords_group[i] == keywords_group[j]:\n",
    "            net2.add_edge(i,j)\n",
    "               \n",
    "net2.show(\"social_network2.html\")"
   ]
  },
  {
   "cell_type": "code",
   "execution_count": null,
   "id": "cc9b3f0e",
   "metadata": {},
   "outputs": [],
   "source": [
    "net3 = Network(notebook=True, #heading=\"Individual Knowledge Map Week 3\",\n",
    "               filter_menu=True,cdn_resources = 'remote')\n",
    "\n",
    "# cacluates the number of occurences for each keywork for week 1 & week2 & week3 in total\n",
    "occurence_week3 = week_keyword.iloc[:2].sum()\n",
    "    \n",
    "for i, value in  enumerate(week1):\n",
    "    if value == 1:\n",
    "        net3.add_node(i, label=keywords[i], title='Week1',size=(int(occurence_week3[i])+1)*3,color=palette[0])\n",
    "\n",
    "for i, value in  enumerate(week2):\n",
    "    if value == 1:\n",
    "        net3.add_node(i, label=keywords[i], title='Week2',size=(int(occurence_week3[i])+1)*3,color=palette[1])\n",
    "        \n",
    "for i, value in  enumerate(week3):\n",
    "    if value == 1:\n",
    "        net3.add_node(i, label=keywords[i], title='Week3',size=(int(occurence_week3[i])+1)*3,color=palette[2])\n",
    "\n",
    "# show the all node ids we have in the net\n",
    "net3_id = [dic['id'] for dic in net3.nodes]\n",
    "print(net3_id)\n",
    "\n",
    "for i in net3_id:\n",
    "    for j in net3_id:\n",
    "        if i != j and keywords_group[i] == keywords_group[j]:\n",
    "            net3.add_edge(i,j)\n",
    "               \n",
    "net3.show(\"social_network3.html\")"
   ]
  },
  {
   "cell_type": "code",
   "execution_count": null,
   "id": "5e256d2e",
   "metadata": {},
   "outputs": [],
   "source": [
    "################################################################"
   ]
  },
  {
   "cell_type": "code",
   "execution_count": null,
   "id": "40fd59c5-3643-4cb0-afb9-fd6e9a042a5f",
   "metadata": {},
   "outputs": [],
   "source": [
    "pip install dash --upgrade"
   ]
  },
  {
   "cell_type": "code",
   "execution_count": 1,
   "id": "e659c19e",
   "metadata": {},
   "outputs": [],
   "source": [
    "import pandas as pd\n",
    "import plotly.express as px\n",
    "from pyvis.network import Network\n",
    "\n",
    "import dash\n",
    "from dash import dcc\n",
    "from dash import html\n",
    "import dash_bootstrap_components as dbc\n",
    "import plotly.graph_objs as go\n",
    "from dash.dependencies import Input, Output, State\n",
    "import sys\n",
    "import os"
   ]
  },
  {
   "cell_type": "code",
   "execution_count": 2,
   "id": "14b92aba-785f-49cb-a27f-e163d742961a",
   "metadata": {},
   "outputs": [],
   "source": [
    "# Create a Dash app\n",
    "app = dash.Dash(__name__, external_stylesheets=[dbc.themes.BOOTSTRAP])"
   ]
  },
  {
   "cell_type": "code",
   "execution_count": 3,
   "id": "f1e84f47-7463-4871-92b4-4604d29f4248",
   "metadata": {},
   "outputs": [],
   "source": [
    "# Define the initial HTML content to display in the Iframe component\n",
    "initial_html = open('social_network1.html', 'r').read()"
   ]
  },
  {
   "cell_type": "code",
   "execution_count": 4,
   "id": "232e4a11-9505-4dc7-a44f-1fea69372725",
   "metadata": {},
   "outputs": [],
   "source": [
    "with open('social_network2.html', 'r') as f:\n",
    "    second_html = f.read()\n",
    "    \n",
    "with open('social_network3.html', 'r') as f:\n",
    "    third_html = f.read()"
   ]
  },
  {
   "cell_type": "code",
   "execution_count": 5,
   "id": "7e51a247-e844-4687-9528-c8017cbac4ea",
   "metadata": {},
   "outputs": [],
   "source": [
    "SIDEBAR_STYLE = {\n",
    "    \"position\": \"fixed\",\n",
    "    \"top\": 0,\n",
    "    \"left\": 0,\n",
    "    \"bottom\": 0,\n",
    "    \"width\": \"25rem\",\n",
    "    \"padding\": \"2rem 1rem\",\n",
    "    \"background-color\": \"rgba(205, 237, 240,  1)\",\n",
    "}"
   ]
  },
  {
   "cell_type": "code",
   "execution_count": 6,
   "id": "8a41a796-2051-4dea-95ab-ec37bebf6a74",
   "metadata": {},
   "outputs": [],
   "source": [
    "# add some padding.\n",
    "CONTENT_STYLE = {\n",
    "    \"margin-left\": \"25rem\",\n",
    "    \"margin-right\": \"0rem\",\n",
    "    \"padding\": \"2rem 1rem\",\n",
    "}\n",
    "\n",
    "sidebar = html.Div(\n",
    "    [\n",
    "        dbc.Row([html.P(\"Name\", className=\"display-6\")]),\n",
    "        html.Hr(),\n",
    "        html.P(\n",
    "            \"Knowledge Point Visualization\", className=\"lead\"\n",
    "        ),\n",
    "        dbc.Nav(\n",
    "            [\n",
    "                dbc.NavLink(\"Individual Graph\", href=\"/\", active=\"exact\"),\n",
    "                dbc.NavLink(\"Collective Graph\", href=\"/page-1\", active=\"exact\"),\n",
    "               # dbc.NavLink(\"Collective Graph\", href=\"/page-2\", active=\"exact\"),\n",
    "                #dbc.NavItem(dbc.NavLink('Find a graph by knowledge name:', href='#')),\n",
    "               # dbc.NavItem(dcc.Input(id='search-bar', type='text', placeholder='Search...')),\n",
    "        #dbc.NavItem(dbc.NavLink('Link 1', href='#')),\n",
    "        #dbc.NavItem(dbc.NavLink('Link 2', href='#')),\n",
    "            ],\n",
    "            vertical=True,\n",
    "            pills=True,\n",
    "        ),\n",
    "    ],\n",
    "    style=SIDEBAR_STYLE,\n",
    ")"
   ]
  },
  {
   "cell_type": "code",
   "execution_count": 7,
   "id": "356dfe62-8ce2-414e-88b0-06947c7489f2",
   "metadata": {},
   "outputs": [],
   "source": [
    "div1 = html.Div([html.Iframe(src=app.get_asset_url(\"social_network1.html\"), style={\"width\":\"100%\", \"height\":\"700px\"}, id=\"graph1\")], style={\"background\":\"transparent\", \"height\":\"700px\"})\n",
    "div2 = html.Div([html.Iframe(src=app.get_asset_url(\"social_network2.html\"), style={\"width\":\"100%\", \"height\":\"700px\"}, id=\"graph2\")], style={\"background\":\"transparent\", \"height\":\"700px\"})\n",
    "div3 = html.Div([html.Iframe(src=app.get_asset_url(\"social_network3.html\"), style={\"width\":\"100%\", \"height\":\"700px\"}, id=\"graph3\")], style={\"background\":\"transparent\", \"height\":\"700px\"})\n",
    "\n",
    "content = html.Div(id=\"page-content\", style=CONTENT_STYLE)"
   ]
  },
  {
   "cell_type": "code",
   "execution_count": 8,
   "id": "94f93bbc-54f3-45c6-8aa3-72792dcf0dad",
   "metadata": {},
   "outputs": [],
   "source": [
    "# Define the app layout with an Iframe component and a slider bar\n",
    "app.layout = html.Div([sidebar, content,\n",
    "    \n",
    "    # Dropdown Menu\n",
    "     #dcc.Dropdown(id='my-dropdown', options=[{'label': 'Individual', 'value': 'option-1'}, {'label': 'Collective', 'value': 'option-2'},{'label': 'Option 3', 'value': 'option-3'}],value='option-1'),\n",
    "    \n",
    "    # html.H1(children=\"Student's Name\"),\n",
    "        # html.P(\"Show your knowledge point interaction from Week 1 to Week 3\"),\n",
    "    html.Iframe(id='html-iframe', srcDoc=initial_html, style={\"position\": \"absolute\", \"top\": \"10px\", \"right\": \"50px\"}, width=\"65%\",\n",
    "            height=\"600\"),\n",
    "    html.Br(),\n",
    "    html.Br(),\n",
    "    html.Div([\n",
    "        html.Label('Select a week:'),\n",
    "        \n",
    "        dcc.Slider(\n",
    "            id='my-slider',\n",
    "          min=0,\n",
    "            max=2,\n",
    "            value=1,\n",
    "            step=1,\n",
    "        updatemode='drag',\n",
    "           marks={0: 'Week1', 1: 'Week2', 2: 'Week3'}\n",
    "        )\n",
    "    ], style={'width': '65%', 'margin': '450px','margin-top': '500px',\n",
    "        'color': '#FFFFFF',\n",
    "        'fontSize': '10px',\n",
    "        'padding': '5px'})\n",
    "])"
   ]
  },
  {
   "cell_type": "code",
   "execution_count": 9,
   "id": "6e0ecfd0-e6a2-438b-b3d3-f53537530a46",
   "metadata": {},
   "outputs": [],
   "source": [
    "# Add CSS to move the slider to the right side of the screen\n",
    "#app.css.append_css({\n",
    "#    '.slider-container': {\n",
    "#        'position': 'absolute',\n",
    "#        'bottom': '50px',\n",
    " #       'right': '50px'\n",
    "#    }\n",
    "#})"
   ]
  },
  {
   "cell_type": "code",
   "execution_count": 10,
   "id": "d2237933-6b00-4cfb-9d04-bad5408ca089",
   "metadata": {},
   "outputs": [],
   "source": [
    "# Define the callback function for the slider bar\n",
    "@app.callback(\n",
    "    Output('html-iframe', 'srcDoc'),\n",
    "    Input('my-slider', 'value')\n",
    ")\n",
    "def update_output(value):\n",
    "    # Define the HTML content to display based on the value of the slider bar\n",
    "    if value == 0:\n",
    "        return open('social_network1.html', 'r').read()\n",
    "    elif value == 1:\n",
    "        return open('social_network2.html', 'r').read()\n",
    "    elif value == 2:\n",
    "        return open('social_network3.html', 'r').read()"
   ]
  },
  {
   "cell_type": "code",
   "execution_count": null,
   "id": "b5a579b0-f1c4-462e-b457-ac42d05d07df",
   "metadata": {},
   "outputs": [
    {
     "name": "stdout",
     "output_type": "stream",
     "text": [
      "Dash is running on http://127.0.0.1:8051/\n",
      "\n",
      " * Serving Flask app \"__main__\" (lazy loading)\n",
      " * Environment: production\n",
      "\u001b[31m   WARNING: This is a development server. Do not use it in a production deployment.\u001b[0m\n",
      "\u001b[2m   Use a production WSGI server instead.\u001b[0m\n",
      " * Debug mode: off\n"
     ]
    },
    {
     "name": "stderr",
     "output_type": "stream",
     "text": [
      " * Running on http://127.0.0.1:8051/ (Press CTRL+C to quit)\n",
      "127.0.0.1 - - [09/Mar/2023 14:55:24] \"GET / HTTP/1.1\" 200 -\n",
      "127.0.0.1 - - [09/Mar/2023 14:55:24] \"GET /_dash-layout HTTP/1.1\" 200 -\n",
      "127.0.0.1 - - [09/Mar/2023 14:55:24] \"GET /_dash-dependencies HTTP/1.1\" 200 -\n",
      "127.0.0.1 - - [09/Mar/2023 14:55:24] \"GET /_dash-component-suites/dash/dcc/async-slider.js HTTP/1.1\" 200 -\n",
      "127.0.0.1 - - [09/Mar/2023 14:55:24] \"POST /_dash-update-component HTTP/1.1\" 200 -\n",
      "127.0.0.1 - - [09/Mar/2023 14:55:24] \"GET /lib/bindings/utils.js HTTP/1.1\" 200 -\n",
      "127.0.0.1 - - [09/Mar/2023 14:55:33] \"POST /_dash-update-component HTTP/1.1\" 200 -\n",
      "127.0.0.1 - - [09/Mar/2023 14:55:33] \"GET /lib/bindings/utils.js HTTP/1.1\" 200 -\n",
      "127.0.0.1 - - [09/Mar/2023 14:55:34] \"POST /_dash-update-component HTTP/1.1\" 200 -\n"
     ]
    }
   ],
   "source": [
    "# Run the app\n",
    "if __name__ == '__main__':\n",
    "    app.run_server(port=8051)"
   ]
  },
  {
   "cell_type": "code",
   "execution_count": null,
   "id": "0b231e3d-01bf-4a4a-8683-ce865fd8a267",
   "metadata": {},
   "outputs": [],
   "source": []
  },
  {
   "cell_type": "code",
   "execution_count": null,
   "id": "0f7dc2fa-4488-4652-acd5-fd2d0504e355",
   "metadata": {},
   "outputs": [],
   "source": []
  }
 ],
 "metadata": {
  "kernelspec": {
   "display_name": "Python 3 (ipykernel)",
   "language": "python",
   "name": "python3"
  },
  "language_info": {
   "codemirror_mode": {
    "name": "ipython",
    "version": 3
   },
   "file_extension": ".py",
   "mimetype": "text/x-python",
   "name": "python",
   "nbconvert_exporter": "python",
   "pygments_lexer": "ipython3",
   "version": "3.9.13"
  }
 },
 "nbformat": 4,
 "nbformat_minor": 5
}
