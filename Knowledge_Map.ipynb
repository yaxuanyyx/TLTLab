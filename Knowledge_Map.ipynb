{
 "cells": [
  {
   "cell_type": "code",
   "execution_count": 1,
   "id": "82fed2cf",
   "metadata": {},
   "outputs": [],
   "source": [
    "from pyvis.network import Network\n",
    "import pandas as pd"
   ]
  },
  {
   "cell_type": "code",
   "execution_count": 2,
   "id": "7ff1f3c8-5abf-47db-8122-938438579e06",
   "metadata": {},
   "outputs": [
    {
     "name": "stdout",
     "output_type": "stream",
     "text": [
      "Requirement already satisfied: palettable in /Users/yyaxuan/opt/anaconda3/lib/python3.9/site-packages (3.3.0)\n",
      "Note: you may need to restart the kernel to use updated packages.\n"
     ]
    }
   ],
   "source": [
    "pip install palettable"
   ]
  },
  {
   "cell_type": "code",
   "execution_count": 3,
   "id": "09bbe030",
   "metadata": {},
   "outputs": [],
   "source": [
    "week_keyword = pd.read_excel(\"../../../../yyaxuan/Documents/repo/TLT_Lab/week_keyword_table_s01_2021.xlsx\",index_col=0)\n",
    "keyword_category = pd.read_excel(\"../../../../yyaxuan/Documents/repo/TLT_Lab/keyword_category_table.xlsx\",index_col=0)"
   ]
  },
  {
   "cell_type": "code",
   "execution_count": 4,
   "id": "30844191",
   "metadata": {},
   "outputs": [
    {
     "name": "stdout",
     "output_type": "stream",
     "text": [
      "   lasercut  3dprint  woodtool  design  debug  trial  help  2ddesign  measure  \\\n",
      "1         1        1         0       0      1      1     0         0        0   \n",
      "2         0        0         1       1      1      0     0         0        0   \n",
      "3         1        0         1       0      1      1     0         1        1   \n",
      "\n",
      "   angle  shape   material  battery  power  \n",
      "1      0       0         0        0      0  \n",
      "2      0       1         1        1      1  \n",
      "3      1       1         1        0      1  \n",
      "          category\n",
      "lasercut         1\n",
      "3dprint          2\n",
      "woodtool         3\n",
      "design           1\n",
      "debug            4\n",
      "trial            4\n",
      "help             4\n",
      "2ddesign         1\n",
      "measure          2\n",
      "angle            4\n",
      "shape            4\n",
      "material         4\n",
      "battery          5\n",
      "power            5\n"
     ]
    }
   ],
   "source": [
    "print(week_keyword)\n",
    "print(keyword_category)"
   ]
  },
  {
   "cell_type": "code",
   "execution_count": 5,
   "id": "d61ed928",
   "metadata": {},
   "outputs": [
    {
     "name": "stdout",
     "output_type": "stream",
     "text": [
      "['lasercut', '3dprint', 'woodtool', 'design', 'debug', 'trial', 'help', '2ddesign', 'measure', 'angle', 'shape ', 'material', 'battery', 'power']\n"
     ]
    }
   ],
   "source": [
    "keywords = list(week_keyword.head())\n",
    "print(keywords)"
   ]
  },
  {
   "cell_type": "code",
   "execution_count": 6,
   "id": "d4186989",
   "metadata": {},
   "outputs": [
    {
     "name": "stdout",
     "output_type": "stream",
     "text": [
      "[1 2 3 1 4 4 4 1 2 4 4 4 5 5]\n"
     ]
    }
   ],
   "source": [
    "# the number shows which category the keyword belongs to\n",
    "keywords_group = keyword_category.iloc[:, 0].to_numpy()\n",
    "print(keywords_group)"
   ]
  },
  {
   "cell_type": "code",
   "execution_count": 7,
   "id": "f7855c64",
   "metadata": {},
   "outputs": [
    {
     "name": "stdout",
     "output_type": "stream",
     "text": [
      "[1 1 0 0 1 1 0 0 0 0 0 0 0 0]\n",
      "[0 0 1 1 1 0 0 0 0 0 1 1 1 1]\n",
      "[1 0 1 0 1 1 0 1 1 1 1 1 0 1]\n"
     ]
    }
   ],
   "source": [
    "# extract each week's keyword list\n",
    "week1 = week_keyword.iloc[0].to_numpy()\n",
    "week2 = week_keyword.iloc[1].to_numpy()\n",
    "week3 = week_keyword.iloc[2].to_numpy()\n",
    "print(week1)\n",
    "print(week2)\n",
    "print(week3)"
   ]
  },
  {
   "cell_type": "code",
   "execution_count": 8,
   "id": "ffd85749",
   "metadata": {},
   "outputs": [
    {
     "name": "stdout",
     "output_type": "stream",
     "text": [
      "['#DEEBF7', '#9ECAE1', '#3182BD']\n"
     ]
    },
    {
     "data": {
      "text/plain": [
       "'#DEEBF7'"
      ]
     },
     "execution_count": 8,
     "metadata": {},
     "output_type": "execute_result"
    }
   ],
   "source": [
    "# create gradient color for each week's nodes\n",
    "from palettable.colorbrewer.sequential import Blues_3\n",
    "palette = Blues_3.hex_colors\n",
    "print(palette)\n",
    "palette[0]"
   ]
  },
  {
   "cell_type": "code",
   "execution_count": 9,
   "id": "0fd770b0",
   "metadata": {},
   "outputs": [
    {
     "name": "stdout",
     "output_type": "stream",
     "text": [
      "Local cdn resources have problems on chrome/safari when used in jupyter-notebook. \n",
      "[0, 1, 4, 5]\n"
     ]
    },
    {
     "data": {
      "text/html": [
       "\n",
       "        <iframe\n",
       "            width=\"100%\"\n",
       "            height=\"600px\"\n",
       "            src=\"social_network1.html\"\n",
       "            frameborder=\"0\"\n",
       "            allowfullscreen\n",
       "            \n",
       "        ></iframe>\n",
       "        "
      ],
      "text/plain": [
       "<IPython.lib.display.IFrame at 0x7fa153a39880>"
      ]
     },
     "execution_count": 9,
     "metadata": {},
     "output_type": "execute_result"
    }
   ],
   "source": [
    "net1 = Network(notebook=True, #heading=\"Individual Knowledge Map Week 1\"\n",
    "              )\n",
    "\n",
    "# cacluates the number of occurences for each keywork for week 1\n",
    "occurence_week1 = week_keyword.iloc[:1].sum()\n",
    "    \n",
    "for i, value in enumerate(week1):\n",
    "    if value == 1:\n",
    "        net1.add_node(i, label=keywords[i], title='Week1',size=(int(occurence_week1[i])+1)*3, color=palette[0])\n",
    "\n",
    "# show the all node ids we have in the net\n",
    "net1_id = [dic['id'] for dic in net1.nodes]\n",
    "print(net1_id)\n",
    "\n",
    "for i in net1_id:\n",
    "    for j in net1_id:\n",
    "        if i != j and keywords_group[i] == keywords_group[j]:\n",
    "            net1.add_edge(i,j)\n",
    "            \n",
    "\n",
    "               \n",
    "net1.show(\"social_network1.html\")"
   ]
  },
  {
   "cell_type": "code",
   "execution_count": 10,
   "id": "1c091847",
   "metadata": {},
   "outputs": [
    {
     "name": "stdout",
     "output_type": "stream",
     "text": [
      "[0, 1, 4, 5, 2, 3, 10, 11, 12, 13]\n"
     ]
    },
    {
     "data": {
      "text/html": [
       "\n",
       "        <iframe\n",
       "            width=\"100%\"\n",
       "            height=\"600px\"\n",
       "            src=\"social_network2.html\"\n",
       "            frameborder=\"0\"\n",
       "            allowfullscreen\n",
       "            \n",
       "        ></iframe>\n",
       "        "
      ],
      "text/plain": [
       "<IPython.lib.display.IFrame at 0x7fa151c50610>"
      ]
     },
     "execution_count": 10,
     "metadata": {},
     "output_type": "execute_result"
    }
   ],
   "source": [
    "net2 = Network(notebook=True, #heading=\"Individual Knowledge Map Week 2\",\n",
    "               filter_menu=True,cdn_resources = 'remote')\n",
    "\n",
    "# cacluates the number of occurences for each keywork for week 1 & week2 in total\n",
    "occurence_week2 = week_keyword.iloc[:2].sum()\n",
    "    \n",
    "for i, value in  enumerate(week1):\n",
    "    if value == 1:\n",
    "        net2.add_node(i, label=keywords[i], title='Week1', size=(int(occurence_week2[i])+1)*3, color=palette[0])\n",
    "\n",
    "for i, value in  enumerate(week2):\n",
    "    if value == 1:\n",
    "        net2.add_node(i, label=keywords[i], title='Week2', size=(int(occurence_week2[i])+1)*3, color=palette[1])\n",
    "\n",
    "# show the all node ids we have in the net\n",
    "net2_id = [dic['id'] for dic in net2.nodes]\n",
    "print(net2_id)\n",
    "\n",
    "for i in net2_id:\n",
    "    for j in net2_id:\n",
    "        if i != j and keywords_group[i] == keywords_group[j]:\n",
    "            net2.add_edge(i,j)\n",
    "               \n",
    "net2.show(\"social_network2.html\")"
   ]
  },
  {
   "cell_type": "code",
   "execution_count": 11,
   "id": "cc9b3f0e",
   "metadata": {},
   "outputs": [
    {
     "name": "stdout",
     "output_type": "stream",
     "text": [
      "[0, 1, 4, 5, 2, 3, 10, 11, 12, 13, 7, 8, 9]\n"
     ]
    },
    {
     "data": {
      "text/html": [
       "\n",
       "        <iframe\n",
       "            width=\"100%\"\n",
       "            height=\"600px\"\n",
       "            src=\"social_network3.html\"\n",
       "            frameborder=\"0\"\n",
       "            allowfullscreen\n",
       "            \n",
       "        ></iframe>\n",
       "        "
      ],
      "text/plain": [
       "<IPython.lib.display.IFrame at 0x7fa153a7d1c0>"
      ]
     },
     "execution_count": 11,
     "metadata": {},
     "output_type": "execute_result"
    }
   ],
   "source": [
    "net3 = Network(notebook=True, #heading=\"Individual Knowledge Map Week 3\",\n",
    "               filter_menu=True,cdn_resources = 'remote')\n",
    "\n",
    "# cacluates the number of occurences for each keywork for week 1 & week2 & week3 in total\n",
    "occurence_week3 = week_keyword.iloc[:2].sum()\n",
    "    \n",
    "for i, value in  enumerate(week1):\n",
    "    if value == 1:\n",
    "        net3.add_node(i, label=keywords[i], title='Week1',size=(int(occurence_week3[i])+1)*3,color=palette[0])\n",
    "\n",
    "for i, value in  enumerate(week2):\n",
    "    if value == 1:\n",
    "        net3.add_node(i, label=keywords[i], title='Week2',size=(int(occurence_week3[i])+1)*3,color=palette[1])\n",
    "        \n",
    "for i, value in  enumerate(week3):\n",
    "    if value == 1:\n",
    "        net3.add_node(i, label=keywords[i], title='Week3',size=(int(occurence_week3[i])+1)*3,color=palette[2])\n",
    "\n",
    "# show the all node ids we have in the net\n",
    "net3_id = [dic['id'] for dic in net3.nodes]\n",
    "print(net3_id)\n",
    "\n",
    "for i in net3_id:\n",
    "    for j in net3_id:\n",
    "        if i != j and keywords_group[i] == keywords_group[j]:\n",
    "            net3.add_edge(i,j)\n",
    "               \n",
    "net3.show(\"social_network3.html\")"
   ]
  },
  {
   "cell_type": "code",
   "execution_count": 12,
   "id": "5e256d2e",
   "metadata": {},
   "outputs": [],
   "source": [
    "################################################################"
   ]
  },
  {
   "cell_type": "code",
   "execution_count": 1,
   "id": "40fd59c5-3643-4cb0-afb9-fd6e9a042a5f",
   "metadata": {},
   "outputs": [
    {
     "name": "stdout",
     "output_type": "stream",
     "text": [
      "Requirement already satisfied: dash in /Users/yyaxuan/opt/anaconda3/lib/python3.9/site-packages (2.8.1)\n",
      "Requirement already satisfied: plotly>=5.0.0 in /Users/yyaxuan/opt/anaconda3/lib/python3.9/site-packages (from dash) (5.9.0)\n",
      "Requirement already satisfied: Flask>=1.0.4 in /Users/yyaxuan/opt/anaconda3/lib/python3.9/site-packages (from dash) (1.1.2)\n",
      "Requirement already satisfied: dash-html-components==2.0.0 in /Users/yyaxuan/opt/anaconda3/lib/python3.9/site-packages (from dash) (2.0.0)\n",
      "Requirement already satisfied: dash-table==5.0.0 in /Users/yyaxuan/opt/anaconda3/lib/python3.9/site-packages (from dash) (5.0.0)\n",
      "Requirement already satisfied: dash-core-components==2.0.0 in /Users/yyaxuan/opt/anaconda3/lib/python3.9/site-packages (from dash) (2.0.0)\n",
      "Requirement already satisfied: Werkzeug>=0.15 in /Users/yyaxuan/opt/anaconda3/lib/python3.9/site-packages (from Flask>=1.0.4->dash) (2.0.3)\n",
      "Requirement already satisfied: Jinja2>=2.10.1 in /Users/yyaxuan/opt/anaconda3/lib/python3.9/site-packages (from Flask>=1.0.4->dash) (2.11.3)\n",
      "Requirement already satisfied: itsdangerous>=0.24 in /Users/yyaxuan/opt/anaconda3/lib/python3.9/site-packages (from Flask>=1.0.4->dash) (2.0.1)\n",
      "Requirement already satisfied: click>=5.1 in /Users/yyaxuan/opt/anaconda3/lib/python3.9/site-packages (from Flask>=1.0.4->dash) (8.0.4)\n",
      "Requirement already satisfied: tenacity>=6.2.0 in /Users/yyaxuan/opt/anaconda3/lib/python3.9/site-packages (from plotly>=5.0.0->dash) (8.0.1)\n",
      "Requirement already satisfied: MarkupSafe>=0.23 in /Users/yyaxuan/opt/anaconda3/lib/python3.9/site-packages (from Jinja2>=2.10.1->Flask>=1.0.4->dash) (2.0.1)\n",
      "Note: you may need to restart the kernel to use updated packages.\n"
     ]
    }
   ],
   "source": [
    "pip install dash --upgrade"
   ]
  },
  {
   "cell_type": "code",
   "execution_count": 1,
   "id": "e659c19e",
   "metadata": {},
   "outputs": [],
   "source": [
    "import pandas as pd\n",
    "import plotly.express as px\n",
    "from pyvis.network import Network\n",
    "\n",
    "import dash\n",
    "from dash import dcc\n",
    "from dash import html\n",
    "import dash_bootstrap_components as dbc\n",
    "import plotly.graph_objs as go\n",
    "from dash.dependencies import Input, Output, State\n",
    "import sys\n",
    "import os"
   ]
  },
  {
   "cell_type": "code",
   "execution_count": 2,
   "id": "14b92aba-785f-49cb-a27f-e163d742961a",
   "metadata": {},
   "outputs": [],
   "source": [
    "# Create a Dash app\n",
    "app1 = dash.Dash(__name__, external_stylesheets=[dbc.themes.BOOTSTRAP])"
   ]
  },
  {
   "cell_type": "code",
   "execution_count": 3,
   "id": "f1e84f47-7463-4871-92b4-4604d29f4248",
   "metadata": {},
   "outputs": [],
   "source": [
    "# Define the initial HTML content to display in the Iframe component\n",
    "initial_html = open('social_network1.html', 'r').read()"
   ]
  },
  {
   "cell_type": "code",
   "execution_count": 4,
   "id": "232e4a11-9505-4dc7-a44f-1fea69372725",
   "metadata": {},
   "outputs": [],
   "source": [
    "with open('social_network2.html', 'r') as f:\n",
    "    second_html = f.read()\n",
    "    \n",
    "with open('social_network3.html', 'r') as f:\n",
    "    third_html = f.read()"
   ]
  },
  {
   "cell_type": "code",
   "execution_count": 5,
   "id": "7e51a247-e844-4687-9528-c8017cbac4ea",
   "metadata": {},
   "outputs": [],
   "source": [
    "SIDEBAR_STYLE = {\n",
    "    \"position\": \"fixed\",\n",
    "    \"top\": 0,\n",
    "    \"left\": 0,\n",
    "    \"bottom\": 0,\n",
    "    \"width\": \"25rem\",\n",
    "    \"padding\": \"2rem 1rem\",\n",
    "    \"background-color\": \"rgba(205, 237, 240,  1)\",\n",
    "}"
   ]
  },
  {
   "cell_type": "code",
   "execution_count": 6,
   "id": "8a41a796-2051-4dea-95ab-ec37bebf6a74",
   "metadata": {},
   "outputs": [],
   "source": [
    "# add some padding.\n",
    "CONTENT_STYLE = {\n",
    "    \"margin-left\": \"25rem\",\n",
    "    \"margin-right\": \"0rem\",\n",
    "    \"padding\": \"2rem 1rem\",\n",
    "}\n",
    "\n",
    "sidebar = html.Div(\n",
    "    [\n",
    "        dbc.Row([html.P(\"Name\", className=\"display-6\")]),\n",
    "        html.Hr(),\n",
    "        html.P(\n",
    "            \"Knowledge Point Visualization\", className=\"lead\"\n",
    "        ),\n",
    "        dbc.Nav(\n",
    "            [\n",
    "                dbc.NavLink(\"Individual Graph\", href=\"/\", active=\"exact\"),\n",
    "                dbc.NavLink(\"Collective Graph\", href=\"/page-1\", active=\"exact\"),\n",
    "                # dbc.NavLink(\"Collective Graph\", href=\"/page-2\", active=\"exact\"),\n",
    "                #dbc.NavItem(dbc.NavLink('Find a graph by knowledge name:', href='#')),\n",
    "                #dbc.NavItem(dcc.Input(id='search-bar', type='text', placeholder='Search...')),\n",
    "        #dbc.NavItem(dbc.NavLink('Link 1', href='#')),\n",
    "        #dbc.NavItem(dbc.NavLink('Link 2', href='#')),\n",
    "            ],\n",
    "            vertical=True,\n",
    "            pills=True,\n",
    "        ),\n",
    "    ],\n",
    "    style=SIDEBAR_STYLE,\n",
    ")"
   ]
  },
  {
   "cell_type": "code",
   "execution_count": 7,
   "id": "356dfe62-8ce2-414e-88b0-06947c7489f2",
   "metadata": {},
   "outputs": [],
   "source": [
    "div1 = html.Div([html.Iframe(src=app1.get_asset_url(\"social_network1.html\"), style={\"width\":\"100%\", \"height\":\"700px\"}, id=\"graph1\")], style={\"background\":\"transparent\", \"height\":\"700px\"})\n",
    "div2 = html.Div([html.Iframe(src=app1.get_asset_url(\"social_network2.html\"), style={\"width\":\"100%\", \"height\":\"700px\"}, id=\"graph2\")], style={\"background\":\"transparent\", \"height\":\"700px\"})\n",
    "div3 = html.Div([html.Iframe(src=app1.get_asset_url(\"social_network3.html\"), style={\"width\":\"100%\", \"height\":\"700px\"}, id=\"graph3\")], style={\"background\":\"transparent\", \"height\":\"700px\"})\n",
    "\n",
    "content = html.Div(id=\"page-content\", style=CONTENT_STYLE)"
   ]
  },
  {
   "cell_type": "code",
   "execution_count": 10,
   "id": "94f93bbc-54f3-45c6-8aa3-72792dcf0dad",
   "metadata": {},
   "outputs": [],
   "source": [
    "# Define the app layout with an Iframe component and a slider bar\n",
    "app1.layout = html.Div([sidebar, content,\n",
    "    \n",
    "    # Dropdown Menu\n",
    "     #dcc.Dropdown(id='my-dropdown', options=[{'label': 'Individual', 'value': 'option-1'}, {'label': 'Collective', 'value': 'option-2'},{'label': 'Option 3', 'value': 'option-3'}],value='option-1'),\n",
    "    \n",
    "    # html.H1(children=\"Student's Name\"),\n",
    "        # html.P(\"Show your knowledge point interaction from Week 1 to Week 3\"),\n",
    "    html.Iframe(id='html-iframe', srcDoc=initial_html, style={\"position\": \"absolute\", \"top\": \"10px\", \"right\": \"50px\"}, width=\"65%\",\n",
    "            height=\"600\"),\n",
    "    dcc.Link('Go to App 2', href='/app2'),\n",
    "    html.Br(),\n",
    "    html.Br(),\n",
    "dcc.Location(id='url', refresh=False),\n",
    "    html.Div([\n",
    "        html.Label('Select a week:'),\n",
    "        \n",
    "        dcc.Slider(\n",
    "            id='my-slider',\n",
    "          min=0,\n",
    "            max=2,\n",
    "            value=1,\n",
    "            step=1,\n",
    "        updatemode='drag',\n",
    "           marks={0: 'Week1', 1: 'Week2', 2: 'Week3'}\n",
    "        )\n",
    "    ], style={'width': '65%', 'margin': '450px','margin-top': '500px',\n",
    "        'color': '#FFFFFF',\n",
    "        'fontSize': '10px',\n",
    "        'padding': '5px'})\n",
    "])"
   ]
  },
  {
   "cell_type": "code",
   "execution_count": 9,
   "id": "6e0ecfd0-e6a2-438b-b3d3-f53537530a46",
   "metadata": {},
   "outputs": [],
   "source": [
    "# Add CSS to move the slider to the right side of the screen\n",
    "#app.css.append_css({\n",
    "#    '.slider-container': {\n",
    "#        'position': 'absolute',\n",
    "#        'bottom': '50px',\n",
    " #       'right': '50px'\n",
    "#    }\n",
    "#})"
   ]
  },
  {
   "cell_type": "code",
   "execution_count": 11,
   "id": "d2237933-6b00-4cfb-9d04-bad5408ca089",
   "metadata": {},
   "outputs": [],
   "source": [
    "# Define the callback function for the slider bar\n",
    "@app1.callback(Output('page-content', 'children'),\n",
    "              Input('url', 'pathname'))\n",
    "def display_page(pathname):\n",
    "    if pathname == '/app2':\n",
    "        return dcc.Location(pathname='/app2')\n",
    "    else:\n",
    "        return html.Div('Welcome to App 1')\n",
    "\n",
    "@app1.callback(\n",
    "    Output('html-iframe', 'srcDoc'),\n",
    "    Input('my-slider', 'value')\n",
    ")\n",
    "def update_output(value):\n",
    "    # Define the HTML content to display based on the value of the slider bar\n",
    "    if value == 0:\n",
    "        return open('social_network1.html', 'r').read()\n",
    "    elif value == 1:\n",
    "        return open('social_network2.html', 'r').read()\n",
    "    elif value == 2:\n",
    "        return open('social_network3.html', 'r').read()"
   ]
  },
  {
   "cell_type": "code",
   "execution_count": null,
   "id": "b5a579b0-f1c4-462e-b457-ac42d05d07df",
   "metadata": {},
   "outputs": [
    {
     "name": "stdout",
     "output_type": "stream",
     "text": [
      "Dash is running on http://127.0.0.1:8051/\n",
      "\n",
      " * Serving Flask app \"__main__\" (lazy loading)\n",
      " * Environment: production\n",
      "\u001b[31m   WARNING: This is a development server. Do not use it in a production deployment.\u001b[0m\n",
      "\u001b[2m   Use a production WSGI server instead.\u001b[0m\n",
      " * Debug mode: off\n"
     ]
    },
    {
     "name": "stderr",
     "output_type": "stream",
     "text": [
      " * Running on http://127.0.0.1:8051/ (Press CTRL+C to quit)\n",
      "127.0.0.1 - - [09/Mar/2023 00:01:28] \"GET / HTTP/1.1\" 200 -\n",
      "127.0.0.1 - - [09/Mar/2023 00:01:28] \"GET /_dash-layout HTTP/1.1\" 200 -\n",
      "127.0.0.1 - - [09/Mar/2023 00:01:28] \"GET /_dash-dependencies HTTP/1.1\" 200 -\n",
      "127.0.0.1 - - [09/Mar/2023 00:01:28] \"GET /_dash-component-suites/dash/dcc/async-slider.js HTTP/1.1\" 200 -\n",
      "127.0.0.1 - - [09/Mar/2023 00:01:28] \"POST /_dash-update-component HTTP/1.1\" 200 -\n",
      "127.0.0.1 - - [09/Mar/2023 00:01:28] \"POST /_dash-update-component HTTP/1.1\" 200 -\n",
      "127.0.0.1 - - [09/Mar/2023 00:01:28] \"GET /lib/bindings/utils.js HTTP/1.1\" 200 -\n"
     ]
    }
   ],
   "source": [
    "# Run the app\n",
    "if __name__ == '__main__':\n",
    "    app1.run_server(port=8051)"
   ]
  },
  {
   "cell_type": "code",
   "execution_count": null,
   "id": "0b231e3d-01bf-4a4a-8683-ce865fd8a267",
   "metadata": {},
   "outputs": [],
   "source": [
    "###############################################################"
   ]
  },
  {
   "cell_type": "code",
   "execution_count": 2,
   "id": "0f7dc2fa-4488-4652-acd5-fd2d0504e355",
   "metadata": {
    "tags": []
   },
   "outputs": [],
   "source": [
    "external_stylesheets = ['style.css']\n",
    "app = dash.Dash(__name__, external_stylesheets=external_stylesheets)"
   ]
  },
  {
   "cell_type": "code",
   "execution_count": 3,
   "id": "7525d06e-7d6c-4807-b591-ef5ba10cc865",
   "metadata": {},
   "outputs": [],
   "source": [
    "app.layout = html.Div([\n",
    "    html.Nav([\n",
    "        dcc.Link('Home', href='/', className='nav-link'),\n",
    "        dcc.Link('About', href='/page-1', className='nav-link'),\n",
    "        dcc.Link('Instruction', href='/page-2', className='nav-link'),\n",
    "        dcc.Link('Graph', href='/page-3', className='nav-link'),\n",
    "    ], className='navbar', style={'display': 'flex', 'justify-content': 'space-between', \"background-color\": \"rgba(205, 237, 240,  1)\", \"padding\": \"1rem\", 'align-items': 'center'}),\n",
    "    html.Br(),\n",
    "    dcc.Location(id='url', refresh=False),\n",
    "    html.Div(id='page-content')\n",
    "])"
   ]
  },
  {
   "cell_type": "code",
   "execution_count": 4,
   "id": "a1276c91-b1de-488c-879c-c4335c442c0a",
   "metadata": {},
   "outputs": [],
   "source": [
    "@app.callback(Output('page-content', 'children'),\n",
    "              [Input('url', 'pathname')])\n",
    "def display_page(pathname):\n",
    "    if pathname == '/':\n",
    "        return html.H1('Home')\n",
    "    elif pathname == '/page-1':\n",
    "        return html.H1('About')\n",
    "    elif pathname == '/page-2':\n",
    "        return html.H1('Instruction')\n",
    "    elif pathname == '/page-3':\n",
    "        return html.H1('Graph')\n",
    "    else:\n",
    "        return html.H1('404 - Page not found')"
   ]
  },
  {
   "cell_type": "code",
   "execution_count": 5,
   "id": "90a37015-6d4a-4545-9c70-6c6efe118a92",
   "metadata": {},
   "outputs": [
    {
     "name": "stdout",
     "output_type": "stream",
     "text": [
      "Dash is running on http://127.0.0.1:8052/\n",
      "\n",
      " * Serving Flask app \"__main__\" (lazy loading)\n",
      " * Environment: production\n",
      "\u001b[31m   WARNING: This is a development server. Do not use it in a production deployment.\u001b[0m\n",
      "\u001b[2m   Use a production WSGI server instead.\u001b[0m\n",
      " * Debug mode: off\n"
     ]
    },
    {
     "name": "stderr",
     "output_type": "stream",
     "text": [
      " * Running on http://127.0.0.1:8052/ (Press CTRL+C to quit)\n",
      "127.0.0.1 - - [08/Mar/2023 23:52:42] \"GET / HTTP/1.1\" 200 -\n",
      "127.0.0.1 - - [08/Mar/2023 23:52:42] \"GET /style.css HTTP/1.1\" 200 -\n",
      "127.0.0.1 - - [08/Mar/2023 23:52:43] \"GET /_dash-layout HTTP/1.1\" 200 -\n",
      "127.0.0.1 - - [08/Mar/2023 23:52:43] \"GET /_dash-dependencies HTTP/1.1\" 200 -\n",
      "127.0.0.1 - - [08/Mar/2023 23:52:43] \"POST /_dash-update-component HTTP/1.1\" 200 -\n"
     ]
    }
   ],
   "source": [
    "if __name__ == '__main__':\n",
    "    app.run_server(port=8052)"
   ]
  },
  {
   "cell_type": "code",
   "execution_count": 2,
   "id": "211b312c-7189-4980-a255-f2fb72afcaa7",
   "metadata": {},
   "outputs": [],
   "source": [
    "# Define the first app\n",
    "app1 = dash.Dash(__name__)\n",
    "app1.layout = html.Div([\n",
    "    html.H1('App 1'),\n",
    "    dcc.Link('Go to App 2', href='/app2'),\n",
    "    html.Br(),\n",
    "    dcc.Location(id='url', refresh=False),\n",
    "    html.Div(id='page-content')\n",
    "])\n",
    "\n",
    "@app1.callback(Output('page-content', 'children'),\n",
    "              Input('url', 'pathname'))\n",
    "def display_page(pathname):\n",
    "    if pathname == '/app2':\n",
    "        return dcc.Location(pathname='/app2')\n",
    "    else:\n",
    "        return html.Div('Welcome to App 1')"
   ]
  },
  {
   "cell_type": "code",
   "execution_count": 3,
   "id": "c0dc9515-cf81-4e76-b72e-935fe2315ab6",
   "metadata": {},
   "outputs": [],
   "source": [
    "# Define the second app\n",
    "app2 = dash.Dash(__name__)\n",
    "app2.layout = html.Div([\n",
    "    html.H1('App 2'),\n",
    "    dcc.Link('Go to App 1', href='/app1'),\n",
    "    html.Br(),\n",
    "    dcc.Location(id='url', refresh=False),\n",
    "    html.Div(id='page-content')\n",
    "])\n",
    "\n",
    "@app2.callback(Output('page-content', 'children'),\n",
    "              Input('url', 'pathname'))\n",
    "def display_page(pathname):\n",
    "    if pathname == '/app1':\n",
    "        return dcc.Location(pathname='/app1')\n",
    "    else:\n",
    "        return html.Div('Welcome to App 2')"
   ]
  },
  {
   "cell_type": "code",
   "execution_count": 4,
   "id": "be8c32e8-ef2b-4f2e-ae81-8e9a39711100",
   "metadata": {},
   "outputs": [],
   "source": [
    "# Combine the two apps into one app\n",
    "server = app1.server\n",
    "app1.title = 'My Linked Apps'\n",
    "app1.config.suppress_callback_exceptions = True"
   ]
  },
  {
   "cell_type": "code",
   "execution_count": 5,
   "id": "86661377-381b-4bbb-87a0-24eb6c252526",
   "metadata": {},
   "outputs": [
    {
     "name": "stdout",
     "output_type": "stream",
     "text": [
      "Dash is running on http://127.0.0.1:8053/\n",
      "\n",
      "Dash is running on http://127.0.0.1:8053/\n",
      "\n",
      " * Serving Flask app \"__main__\" (lazy loading)\n",
      " * Environment: production\n",
      "\u001b[31m   WARNING: This is a development server. Do not use it in a production deployment.\u001b[0m\n",
      "\u001b[2m   Use a production WSGI server instead.\u001b[0m\n",
      " * Debug mode: off\n"
     ]
    },
    {
     "name": "stderr",
     "output_type": "stream",
     "text": [
      " * Running on http://127.0.0.1:8053/ (Press CTRL+C to quit)\n",
      "127.0.0.1 - - [08/Mar/2023 23:56:15] \"GET / HTTP/1.1\" 200 -\n",
      "127.0.0.1 - - [08/Mar/2023 23:56:15] \"GET /_dash-component-suites/dash/deps/polyfill@7.v2_8_1m1677342896.12.1.min.js HTTP/1.1\" 200 -\n",
      "127.0.0.1 - - [08/Mar/2023 23:56:15] \"GET /_dash-component-suites/dash/deps/react@16.v2_8_1m1677342896.14.0.min.js HTTP/1.1\" 200 -\n",
      "127.0.0.1 - - [08/Mar/2023 23:56:15] \"GET /_dash-component-suites/dash/deps/react-dom@16.v2_8_1m1677342896.14.0.min.js HTTP/1.1\" 200 -\n",
      "127.0.0.1 - - [08/Mar/2023 23:56:15] \"GET /_dash-component-suites/dash/deps/prop-types@15.v2_8_1m1677342896.8.1.min.js HTTP/1.1\" 200 -\n",
      "127.0.0.1 - - [08/Mar/2023 23:56:15] \"GET /_dash-component-suites/dash_bootstrap_components/_components/dash_bootstrap_components.v1_4_0m1678040315.min.js HTTP/1.1\" 200 -\n",
      "127.0.0.1 - - [08/Mar/2023 23:56:16] \"GET /_dash-component-suites/dash/dash-renderer/build/dash_renderer.v2_8_1m1677342896.min.js HTTP/1.1\" 200 -\n",
      "127.0.0.1 - - [08/Mar/2023 23:56:16] \"GET /_dash-component-suites/dash/dcc/dash_core_components.v2_8_0m1677342896.js HTTP/1.1\" 200 -\n",
      "127.0.0.1 - - [08/Mar/2023 23:56:16] \"GET /_dash-component-suites/dash/dcc/dash_core_components-shared.v2_8_0m1677342896.js HTTP/1.1\" 200 -\n",
      "127.0.0.1 - - [08/Mar/2023 23:56:16] \"GET /_dash-component-suites/dash/html/dash_html_components.v2_0_8m1677342896.min.js HTTP/1.1\" 200 -\n",
      "127.0.0.1 - - [08/Mar/2023 23:56:16] \"GET /_dash-component-suites/dash/dash_table/bundle.v5_2_2m1677342896.js HTTP/1.1\" 200 -\n",
      "127.0.0.1 - - [08/Mar/2023 23:56:16] \"GET /_dash-layout HTTP/1.1\" 200 -\n",
      "127.0.0.1 - - [08/Mar/2023 23:56:16] \"GET /_dash-dependencies HTTP/1.1\" 200 -\n",
      "127.0.0.1 - - [08/Mar/2023 23:56:16] \"GET /_favicon.ico?v=2.8.1 HTTP/1.1\" 200 -\n",
      "127.0.0.1 - - [08/Mar/2023 23:56:16] \"POST /_dash-update-component HTTP/1.1\" 200 -\n"
     ]
    },
    {
     "name": "stdout",
     "output_type": "stream",
     "text": [
      "Exception on /_dash-update-component [POST]\n",
      "Traceback (most recent call last):\n",
      "  File \"/Users/yyaxuan/opt/anaconda3/lib/python3.9/site-packages/flask/app.py\", line 2447, in wsgi_app\n",
      "    response = self.full_dispatch_request()\n",
      "  File \"/Users/yyaxuan/opt/anaconda3/lib/python3.9/site-packages/flask/app.py\", line 1952, in full_dispatch_request\n",
      "    rv = self.handle_user_exception(e)\n",
      "  File \"/Users/yyaxuan/opt/anaconda3/lib/python3.9/site-packages/flask/app.py\", line 1821, in handle_user_exception\n",
      "    reraise(exc_type, exc_value, tb)\n",
      "  File \"/Users/yyaxuan/opt/anaconda3/lib/python3.9/site-packages/flask/_compat.py\", line 39, in reraise\n",
      "    raise value\n",
      "  File \"/Users/yyaxuan/opt/anaconda3/lib/python3.9/site-packages/flask/app.py\", line 1950, in full_dispatch_request\n",
      "    rv = self.dispatch_request()\n",
      "  File \"/Users/yyaxuan/opt/anaconda3/lib/python3.9/site-packages/flask/app.py\", line 1936, in dispatch_request\n",
      "    return self.view_functions[rule.endpoint](**req.view_args)\n",
      "  File \"/Users/yyaxuan/opt/anaconda3/lib/python3.9/site-packages/dash/dash.py\", line 1273, in dispatch\n",
      "    ctx.run(\n",
      "  File \"/Users/yyaxuan/opt/anaconda3/lib/python3.9/site-packages/dash/_callback.py\", line 440, in add_context\n",
      "    output_value = func(*func_args, **func_kwargs)  # %% callback invoked %%\n",
      "  File \"/var/folders/nw/t4r23zl55bv4x0dcsmgsbw6r0000gn/T/ipykernel_77178/3205047757.py\", line 15, in display_page\n",
      "    return dcc.Location(pathname='/app2')\n",
      "  File \"/Users/yyaxuan/opt/anaconda3/lib/python3.9/site-packages/dash/development/base_component.py\", line 420, in wrapper\n",
      "    return func(*args, **kwargs)\n",
      "  File \"/Users/yyaxuan/opt/anaconda3/lib/python3.9/site-packages/dash/dcc/Location.py\", line 68, in __init__\n",
      "    raise TypeError(\"Required argument `\" + k + \"` was not specified.\")\n",
      "TypeError: Required argument `id` was not specified.\n",
      "Exception on /_dash-update-component [POST]\n",
      "Traceback (most recent call last):\n",
      "  File \"/Users/yyaxuan/opt/anaconda3/lib/python3.9/site-packages/flask/app.py\", line 2447, in wsgi_app\n",
      "    response = self.full_dispatch_request()\n",
      "  File \"/Users/yyaxuan/opt/anaconda3/lib/python3.9/site-packages/flask/app.py\", line 1952, in full_dispatch_request\n",
      "    rv = self.handle_user_exception(e)\n",
      "  File \"/Users/yyaxuan/opt/anaconda3/lib/python3.9/site-packages/flask/app.py\", line 1821, in handle_user_exception\n",
      "    reraise(exc_type, exc_value, tb)\n",
      "  File \"/Users/yyaxuan/opt/anaconda3/lib/python3.9/site-packages/flask/_compat.py\", line 39, in reraise\n",
      "    raise value\n",
      "  File \"/Users/yyaxuan/opt/anaconda3/lib/python3.9/site-packages/flask/app.py\", line 1950, in full_dispatch_request\n",
      "    rv = self.dispatch_request()\n",
      "  File \"/Users/yyaxuan/opt/anaconda3/lib/python3.9/site-packages/flask/app.py\", line 1936, in dispatch_request\n",
      "    return self.view_functions[rule.endpoint](**req.view_args)\n",
      "  File \"/Users/yyaxuan/opt/anaconda3/lib/python3.9/site-packages/dash/dash.py\", line 1273, in dispatch\n",
      "    ctx.run(\n",
      "  File \"/Users/yyaxuan/opt/anaconda3/lib/python3.9/site-packages/dash/_callback.py\", line 440, in add_context\n",
      "    output_value = func(*func_args, **func_kwargs)  # %% callback invoked %%\n",
      "  File \"/var/folders/nw/t4r23zl55bv4x0dcsmgsbw6r0000gn/T/ipykernel_77178/3205047757.py\", line 15, in display_page\n",
      "    return dcc.Location(pathname='/app2')\n",
      "  File \"/Users/yyaxuan/opt/anaconda3/lib/python3.9/site-packages/dash/development/base_component.py\", line 420, in wrapper\n",
      "    return func(*args, **kwargs)\n",
      "  File \"/Users/yyaxuan/opt/anaconda3/lib/python3.9/site-packages/dash/dcc/Location.py\", line 68, in __init__\n",
      "    raise TypeError(\"Required argument `\" + k + \"` was not specified.\")\n",
      "TypeError: Required argument `id` was not specified.\n"
     ]
    },
    {
     "name": "stderr",
     "output_type": "stream",
     "text": [
      "127.0.0.1 - - [08/Mar/2023 23:56:17] \"POST /_dash-update-component HTTP/1.1\" 500 -\n",
      "127.0.0.1 - - [08/Mar/2023 23:56:29] \"POST /_dash-update-component HTTP/1.1\" 200 -\n"
     ]
    },
    {
     "name": "stdout",
     "output_type": "stream",
     "text": [
      "Exception on /_dash-update-component [POST]\n",
      "Traceback (most recent call last):\n",
      "  File \"/Users/yyaxuan/opt/anaconda3/lib/python3.9/site-packages/flask/app.py\", line 2447, in wsgi_app\n",
      "    response = self.full_dispatch_request()\n",
      "  File \"/Users/yyaxuan/opt/anaconda3/lib/python3.9/site-packages/flask/app.py\", line 1952, in full_dispatch_request\n",
      "    rv = self.handle_user_exception(e)\n",
      "  File \"/Users/yyaxuan/opt/anaconda3/lib/python3.9/site-packages/flask/app.py\", line 1821, in handle_user_exception\n",
      "    reraise(exc_type, exc_value, tb)\n",
      "  File \"/Users/yyaxuan/opt/anaconda3/lib/python3.9/site-packages/flask/_compat.py\", line 39, in reraise\n",
      "    raise value\n",
      "  File \"/Users/yyaxuan/opt/anaconda3/lib/python3.9/site-packages/flask/app.py\", line 1950, in full_dispatch_request\n",
      "    rv = self.dispatch_request()\n",
      "  File \"/Users/yyaxuan/opt/anaconda3/lib/python3.9/site-packages/flask/app.py\", line 1936, in dispatch_request\n",
      "    return self.view_functions[rule.endpoint](**req.view_args)\n",
      "  File \"/Users/yyaxuan/opt/anaconda3/lib/python3.9/site-packages/dash/dash.py\", line 1273, in dispatch\n",
      "    ctx.run(\n",
      "  File \"/Users/yyaxuan/opt/anaconda3/lib/python3.9/site-packages/dash/_callback.py\", line 440, in add_context\n",
      "    output_value = func(*func_args, **func_kwargs)  # %% callback invoked %%\n",
      "  File \"/var/folders/nw/t4r23zl55bv4x0dcsmgsbw6r0000gn/T/ipykernel_77178/3205047757.py\", line 15, in display_page\n",
      "    return dcc.Location(pathname='/app2')\n",
      "  File \"/Users/yyaxuan/opt/anaconda3/lib/python3.9/site-packages/dash/development/base_component.py\", line 420, in wrapper\n",
      "    return func(*args, **kwargs)\n",
      "  File \"/Users/yyaxuan/opt/anaconda3/lib/python3.9/site-packages/dash/dcc/Location.py\", line 68, in __init__\n",
      "    raise TypeError(\"Required argument `\" + k + \"` was not specified.\")\n",
      "TypeError: Required argument `id` was not specified.\n",
      "Exception on /_dash-update-component [POST]\n",
      "Traceback (most recent call last):\n",
      "  File \"/Users/yyaxuan/opt/anaconda3/lib/python3.9/site-packages/flask/app.py\", line 2447, in wsgi_app\n",
      "    response = self.full_dispatch_request()\n",
      "  File \"/Users/yyaxuan/opt/anaconda3/lib/python3.9/site-packages/flask/app.py\", line 1952, in full_dispatch_request\n",
      "    rv = self.handle_user_exception(e)\n",
      "  File \"/Users/yyaxuan/opt/anaconda3/lib/python3.9/site-packages/flask/app.py\", line 1821, in handle_user_exception\n",
      "    reraise(exc_type, exc_value, tb)\n",
      "  File \"/Users/yyaxuan/opt/anaconda3/lib/python3.9/site-packages/flask/_compat.py\", line 39, in reraise\n",
      "    raise value\n",
      "  File \"/Users/yyaxuan/opt/anaconda3/lib/python3.9/site-packages/flask/app.py\", line 1950, in full_dispatch_request\n",
      "    rv = self.dispatch_request()\n",
      "  File \"/Users/yyaxuan/opt/anaconda3/lib/python3.9/site-packages/flask/app.py\", line 1936, in dispatch_request\n",
      "    return self.view_functions[rule.endpoint](**req.view_args)\n",
      "  File \"/Users/yyaxuan/opt/anaconda3/lib/python3.9/site-packages/dash/dash.py\", line 1273, in dispatch\n",
      "    ctx.run(\n",
      "  File \"/Users/yyaxuan/opt/anaconda3/lib/python3.9/site-packages/dash/_callback.py\", line 440, in add_context\n",
      "    output_value = func(*func_args, **func_kwargs)  # %% callback invoked %%\n",
      "  File \"/var/folders/nw/t4r23zl55bv4x0dcsmgsbw6r0000gn/T/ipykernel_77178/3205047757.py\", line 15, in display_page\n",
      "    return dcc.Location(pathname='/app2')\n",
      "  File \"/Users/yyaxuan/opt/anaconda3/lib/python3.9/site-packages/dash/development/base_component.py\", line 420, in wrapper\n",
      "    return func(*args, **kwargs)\n",
      "  File \"/Users/yyaxuan/opt/anaconda3/lib/python3.9/site-packages/dash/dcc/Location.py\", line 68, in __init__\n",
      "    raise TypeError(\"Required argument `\" + k + \"` was not specified.\")\n",
      "TypeError: Required argument `id` was not specified.\n"
     ]
    },
    {
     "name": "stderr",
     "output_type": "stream",
     "text": [
      "127.0.0.1 - - [08/Mar/2023 23:56:30] \"POST /_dash-update-component HTTP/1.1\" 500 -\n"
     ]
    }
   ],
   "source": [
    "\n",
    "if __name__ == '__main__':\n",
    "    app1.run_server(port=8053)"
   ]
  },
  {
   "cell_type": "code",
   "execution_count": null,
   "id": "1cf3b478-10ac-4ade-9f7e-99ff5f9158cb",
   "metadata": {},
   "outputs": [],
   "source": []
  }
 ],
 "metadata": {
  "kernelspec": {
   "display_name": "Python 3 (ipykernel)",
   "language": "python",
   "name": "python3"
  },
  "language_info": {
   "codemirror_mode": {
    "name": "ipython",
    "version": 3
   },
   "file_extension": ".py",
   "mimetype": "text/x-python",
   "name": "python",
   "nbconvert_exporter": "python",
   "pygments_lexer": "ipython3",
   "version": "3.9.13"
  }
 },
 "nbformat": 4,
 "nbformat_minor": 5
}
