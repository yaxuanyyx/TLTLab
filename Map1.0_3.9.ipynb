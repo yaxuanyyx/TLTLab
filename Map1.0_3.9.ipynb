{
 "cells": [
  {
   "cell_type": "code",
   "execution_count": 1,
   "id": "82fed2cf",
   "metadata": {},
   "outputs": [],
   "source": [
    "from pyvis.network import Network\n",
    "import pandas as pd"
   ]
  },
  {
   "cell_type": "code",
   "execution_count": 2,
   "id": "7ff1f3c8-5abf-47db-8122-938438579e06",
   "metadata": {},
   "outputs": [
    {
     "name": "stdout",
     "output_type": "stream",
     "text": [
      "Requirement already satisfied: palettable in /Users/yyaxuan/opt/anaconda3/lib/python3.9/site-packages (3.3.0)\n",
      "Note: you may need to restart the kernel to use updated packages.\n"
     ]
    }
   ],
   "source": [
    "pip install palettable"
   ]
  },
  {
   "cell_type": "code",
   "execution_count": 3,
   "id": "09bbe030",
   "metadata": {},
   "outputs": [],
   "source": [
    "week_keyword = pd.read_excel(\"../../../../yyaxuan/Documents/repo/TLT_Lab/week_keyword_table_s01_2021.xlsx\",index_col=0)\n",
    "keyword_category = pd.read_excel(\"../../../../yyaxuan/Documents/repo/TLT_Lab/keyword_category_table.xlsx\",index_col=0)"
   ]
  },
  {
   "cell_type": "code",
   "execution_count": 4,
   "id": "30844191",
   "metadata": {},
   "outputs": [
    {
     "name": "stdout",
     "output_type": "stream",
     "text": [
      "   lasercut  3dprint  woodtool  design  debug  trial  help  2ddesign  measure  \\\n",
      "1         1        1         0       0      1      1     0         0        0   \n",
      "2         0        0         1       1      1      0     0         0        0   \n",
      "3         1        0         1       0      1      1     0         1        1   \n",
      "\n",
      "   angle  shape   material  battery  power  \n",
      "1      0       0         0        0      0  \n",
      "2      0       1         1        1      1  \n",
      "3      1       1         1        0      1  \n",
      "          category\n",
      "lasercut         1\n",
      "3dprint          2\n",
      "woodtool         3\n",
      "design           1\n",
      "debug            4\n",
      "trial            4\n",
      "help             4\n",
      "2ddesign         1\n",
      "measure          2\n",
      "angle            4\n",
      "shape            4\n",
      "material         4\n",
      "battery          5\n",
      "power            5\n"
     ]
    }
   ],
   "source": [
    "print(week_keyword)\n",
    "print(keyword_category)"
   ]
  },
  {
   "cell_type": "code",
   "execution_count": 5,
   "id": "d61ed928",
   "metadata": {},
   "outputs": [
    {
     "name": "stdout",
     "output_type": "stream",
     "text": [
      "['lasercut', '3dprint', 'woodtool', 'design', 'debug', 'trial', 'help', '2ddesign', 'measure', 'angle', 'shape ', 'material', 'battery', 'power']\n"
     ]
    }
   ],
   "source": [
    "keywords = list(week_keyword.head())\n",
    "print(keywords)"
   ]
  },
  {
   "cell_type": "code",
   "execution_count": 6,
   "id": "d4186989",
   "metadata": {},
   "outputs": [
    {
     "name": "stdout",
     "output_type": "stream",
     "text": [
      "[1 2 3 1 4 4 4 1 2 4 4 4 5 5]\n"
     ]
    }
   ],
   "source": [
    "# the number shows which category the keyword belongs to\n",
    "keywords_group = keyword_category.iloc[:, 0].to_numpy()\n",
    "print(keywords_group)"
   ]
  },
  {
   "cell_type": "code",
   "execution_count": 7,
   "id": "f7855c64",
   "metadata": {},
   "outputs": [
    {
     "name": "stdout",
     "output_type": "stream",
     "text": [
      "[1 1 0 0 1 1 0 0 0 0 0 0 0 0]\n",
      "[0 0 1 1 1 0 0 0 0 0 1 1 1 1]\n",
      "[1 0 1 0 1 1 0 1 1 1 1 1 0 1]\n"
     ]
    }
   ],
   "source": [
    "# extract each week's keyword list\n",
    "week1 = week_keyword.iloc[0].to_numpy()\n",
    "week2 = week_keyword.iloc[1].to_numpy()\n",
    "week3 = week_keyword.iloc[2].to_numpy()\n",
    "print(week1)\n",
    "print(week2)\n",
    "print(week3)"
   ]
  },
  {
   "cell_type": "code",
   "execution_count": 8,
   "id": "ffd85749",
   "metadata": {},
   "outputs": [
    {
     "name": "stdout",
     "output_type": "stream",
     "text": [
      "['#DEEBF7', '#9ECAE1', '#3182BD']\n"
     ]
    },
    {
     "data": {
      "text/plain": [
       "'#DEEBF7'"
      ]
     },
     "execution_count": 8,
     "metadata": {},
     "output_type": "execute_result"
    }
   ],
   "source": [
    "# create gradient color for each week's nodes\n",
    "from palettable.colorbrewer.sequential import Blues_3\n",
    "palette = Blues_3.hex_colors\n",
    "print(palette)\n",
    "palette[0]"
   ]
  },
  {
   "cell_type": "code",
   "execution_count": 9,
   "id": "0fd770b0",
   "metadata": {},
   "outputs": [
    {
     "name": "stdout",
     "output_type": "stream",
     "text": [
      "Warning: When  cdn_resources is 'local' jupyter notebook has issues displaying graphics on chrome/safari. Use cdn_resources='in_line' or cdn_resources='remote' if you have issues viewing graphics in a notebook.\n",
      "[0, 1, 4, 5]\n",
      "social_network1.html\n"
     ]
    },
    {
     "data": {
      "text/html": [
       "\n",
       "        <iframe\n",
       "            width=\"100%\"\n",
       "            height=\"600px\"\n",
       "            src=\"social_network1.html\"\n",
       "            frameborder=\"0\"\n",
       "            allowfullscreen\n",
       "            \n",
       "        ></iframe>\n",
       "        "
      ],
      "text/plain": [
       "<IPython.lib.display.IFrame at 0x7fa439dabdf0>"
      ]
     },
     "execution_count": 9,
     "metadata": {},
     "output_type": "execute_result"
    }
   ],
   "source": [
    "net1 = Network(notebook=True, #heading=\"Individual Knowledge Map Week 1\"\n",
    "              )\n",
    "\n",
    "# cacluates the number of occurences for each keywork for week 1\n",
    "occurence_week1 = week_keyword.iloc[:1].sum()\n",
    "    \n",
    "for i, value in enumerate(week1):\n",
    "    if value == 1:\n",
    "        net1.add_node(i, label=keywords[i], title='Week1',size=(int(occurence_week1[i])+1)*3, color=palette[0])\n",
    "\n",
    "# show the all node ids we have in the net\n",
    "net1_id = [dic['id'] for dic in net1.nodes]\n",
    "print(net1_id)\n",
    "\n",
    "for i in net1_id:\n",
    "    for j in net1_id:\n",
    "        if i != j and keywords_group[i] == keywords_group[j]:\n",
    "            net1.add_edge(i,j)\n",
    "            \n",
    "\n",
    "               \n",
    "net1.show(\"social_network1.html\")"
   ]
  },
  {
   "cell_type": "code",
   "execution_count": 10,
   "id": "1c091847",
   "metadata": {},
   "outputs": [
    {
     "name": "stdout",
     "output_type": "stream",
     "text": [
      "[0, 1, 4, 5, 2, 3, 10, 11, 12, 13]\n",
      "social_network2.html\n"
     ]
    },
    {
     "data": {
      "text/html": [
       "\n",
       "        <iframe\n",
       "            width=\"100%\"\n",
       "            height=\"600px\"\n",
       "            src=\"social_network2.html\"\n",
       "            frameborder=\"0\"\n",
       "            allowfullscreen\n",
       "            \n",
       "        ></iframe>\n",
       "        "
      ],
      "text/plain": [
       "<IPython.lib.display.IFrame at 0x7fa43921d8b0>"
      ]
     },
     "execution_count": 10,
     "metadata": {},
     "output_type": "execute_result"
    }
   ],
   "source": [
    "net2 = Network(notebook=True, #heading=\"Individual Knowledge Map Week 2\",filter_menu=True,\n",
    "               cdn_resources = 'remote')\n",
    "\n",
    "# cacluates the number of occurences for each keywork for week 1 & week2 in total\n",
    "occurence_week2 = week_keyword.iloc[:2].sum()\n",
    "    \n",
    "for i, value in  enumerate(week1):\n",
    "    if value == 1:\n",
    "        net2.add_node(i, label=keywords[i], title='Week1', size=(int(occurence_week2[i])+1)*3, color=palette[0])\n",
    "\n",
    "for i, value in  enumerate(week2):\n",
    "    if value == 1:\n",
    "        net2.add_node(i, label=keywords[i], title='Week2', size=(int(occurence_week2[i])+1)*3, color=palette[1])\n",
    "\n",
    "# show the all node ids we have in the net\n",
    "net2_id = [dic['id'] for dic in net2.nodes]\n",
    "print(net2_id)\n",
    "\n",
    "for i in net2_id:\n",
    "    for j in net2_id:\n",
    "        if i != j and keywords_group[i] == keywords_group[j]:\n",
    "            net2.add_edge(i,j)\n",
    "               \n",
    "net2.show(\"social_network2.html\")"
   ]
  },
  {
   "cell_type": "code",
   "execution_count": 11,
   "id": "cc9b3f0e",
   "metadata": {},
   "outputs": [
    {
     "name": "stdout",
     "output_type": "stream",
     "text": [
      "[0, 1, 4, 5, 2, 3, 10, 11, 12, 13, 7, 8, 9]\n",
      "social_network3.html\n"
     ]
    },
    {
     "data": {
      "text/html": [
       "\n",
       "        <iframe\n",
       "            width=\"100%\"\n",
       "            height=\"600px\"\n",
       "            src=\"social_network3.html\"\n",
       "            frameborder=\"0\"\n",
       "            allowfullscreen\n",
       "            \n",
       "        ></iframe>\n",
       "        "
      ],
      "text/plain": [
       "<IPython.lib.display.IFrame at 0x7fa469e132e0>"
      ]
     },
     "execution_count": 11,
     "metadata": {},
     "output_type": "execute_result"
    }
   ],
   "source": [
    "net3 = Network(notebook=True, #heading=\"Individual Knowledge Map Week 3\", filter_menu=True,\n",
    "               cdn_resources = 'remote')\n",
    "\n",
    "# cacluates the number of occurences for each keywork for week 1 & week2 & week3 in total\n",
    "occurence_week3 = week_keyword.iloc[:2].sum()\n",
    "    \n",
    "for i, value in  enumerate(week1):\n",
    "    if value == 1:\n",
    "        net3.add_node(i, label=keywords[i], title='Week1',size=(int(occurence_week3[i])+1)*3,color=palette[0])\n",
    "\n",
    "for i, value in  enumerate(week2):\n",
    "    if value == 1:\n",
    "        net3.add_node(i, label=keywords[i], title='Week2',size=(int(occurence_week3[i])+1)*3,color=palette[1])\n",
    "        \n",
    "for i, value in  enumerate(week3):\n",
    "    if value == 1:\n",
    "        net3.add_node(i, label=keywords[i], title='Week3',size=(int(occurence_week3[i])+1)*3,color=palette[2])\n",
    "\n",
    "# show the all node ids we have in the net\n",
    "net3_id = [dic['id'] for dic in net3.nodes]\n",
    "print(net3_id)\n",
    "\n",
    "for i in net3_id:\n",
    "    for j in net3_id:\n",
    "        if i != j and keywords_group[i] == keywords_group[j]:\n",
    "            net3.add_edge(i,j)\n",
    "               \n",
    "net3.show(\"social_network3.html\")"
   ]
  },
  {
   "cell_type": "code",
   "execution_count": 12,
   "id": "5e256d2e",
   "metadata": {},
   "outputs": [],
   "source": [
    "################################################################"
   ]
  },
  {
   "cell_type": "code",
   "execution_count": null,
   "id": "40fd59c5-3643-4cb0-afb9-fd6e9a042a5f",
   "metadata": {},
   "outputs": [],
   "source": [
    "pip install dash --upgrade"
   ]
  },
  {
   "cell_type": "code",
   "execution_count": 1,
   "id": "e659c19e",
   "metadata": {},
   "outputs": [],
   "source": [
    "import pandas as pd\n",
    "import plotly.express as px\n",
    "from pyvis.network import Network\n",
    "\n",
    "import dash\n",
    "from dash import dcc\n",
    "from dash import html\n",
    "import dash_bootstrap_components as dbc\n",
    "import plotly.graph_objs as go\n",
    "from dash.dependencies import Input, Output, State\n",
    "import sys\n",
    "import os"
   ]
  },
  {
   "cell_type": "code",
   "execution_count": 2,
   "id": "14b92aba-785f-49cb-a27f-e163d742961a",
   "metadata": {},
   "outputs": [],
   "source": [
    "# Create a Dash app\n",
    "app = dash.Dash(__name__, external_stylesheets=[dbc.themes.BOOTSTRAP])"
   ]
  },
  {
   "cell_type": "code",
   "execution_count": 3,
   "id": "f1e84f47-7463-4871-92b4-4604d29f4248",
   "metadata": {},
   "outputs": [],
   "source": [
    "# Define the initial HTML content to display in the Iframe component\n",
    "initial_html = open('social_network1.html', 'r').read()"
   ]
  },
  {
   "cell_type": "code",
   "execution_count": 4,
   "id": "232e4a11-9505-4dc7-a44f-1fea69372725",
   "metadata": {},
   "outputs": [],
   "source": [
    "with open('social_network2.html', 'r') as f:\n",
    "    second_html = f.read()\n",
    "    \n",
    "with open('social_network3.html', 'r') as f:\n",
    "    third_html = f.read()"
   ]
  },
  {
   "cell_type": "code",
   "execution_count": 5,
   "id": "7e51a247-e844-4687-9528-c8017cbac4ea",
   "metadata": {},
   "outputs": [],
   "source": [
    "SIDEBAR_STYLE = {\n",
    "    \"position\": \"fixed\",\n",
    "    \"top\": 0,\n",
    "    \"left\": 0,\n",
    "    \"bottom\": 0,\n",
    "    \"width\": \"25rem\",\n",
    "    \"padding\": \"2rem 1rem\",\n",
    "    \"background-color\": \"rgba(205, 237, 240,  1)\",\n",
    "}"
   ]
  },
  {
   "cell_type": "code",
   "execution_count": 8,
   "id": "8a41a796-2051-4dea-95ab-ec37bebf6a74",
   "metadata": {},
   "outputs": [],
   "source": [
    "# add some padding.\n",
    "CONTENT_STYLE = {\n",
    "    \"margin-left\": \"25rem\",\n",
    "    \"margin-right\": \"0rem\",\n",
    "    \"padding\": \"2rem 1rem\",\n",
    "}\n",
    "\n",
    "sidebar = html.Div(\n",
    "    [\n",
    "        dbc.Row([html.P(\"Name\", className=\"display-6\")]),\n",
    "        html.Hr(),\n",
    "        html.P(\n",
    "            \"Knowledge Point Visualization\", className=\"lead\"\n",
    "        ),\n",
    "        dbc.Nav(\n",
    "            [\n",
    "                dbc.NavLink(\"Individual Graph\", href=\"/\", active=\"exact\"),\n",
    "                dbc.NavLink(\"Collective Graph\", href=\"/page-1\", active=\"exact\"),\n",
    "                dbc.NavLink(\"About\", href=\"/page-2\", active=\"exact\")\n",
    "            ],\n",
    "            vertical=True,\n",
    "            pills=True,\n",
    "        ),\n",
    "    ],\n",
    "    style=SIDEBAR_STYLE,\n",
    ")"
   ]
  },
  {
   "cell_type": "code",
   "execution_count": null,
   "id": "60812e26-42d2-44ae-9870-7537e4800211",
   "metadata": {},
   "outputs": [],
   "source": [
    "div1 = html.Div([html.Iframe(src=app.get_asset_url(\"social_network1.html\"), style={\"width\":\"100%\", \"height\":\"700px\"}, id=\"graph1\")], style={\"background\":\"transparent\", \"height\":\"700px\"})\n",
    "div2 = html.Div([html.Iframe(src=app.get_asset_url(\"social_network2.html\"), style={\"width\":\"100%\", \"height\":\"700px\"}, id=\"graph2\")], style={\"background\":\"transparent\", \"height\":\"700px\"})\n",
    "div3 = html.Div([html.Iframe(src=app.get_asset_url(\"social_network3.html\"), style={\"width\":\"100%\", \"height\":\"700px\"}, id=\"graph3\")], style={\"background\":\"transparent\", \"height\":\"700px\"})\n",
    "\n",
    "content = html.Div(id=\"page-content\", style=CONTENT_STYLE)"
   ]
  },
  {
   "cell_type": "code",
   "execution_count": null,
   "id": "066297b3-fbcd-48e7-b16a-831c427c57a5",
   "metadata": {},
   "outputs": [],
   "source": [
    "# Define the app layout with an Iframe component and a slider bar\n",
    "app_layout = html.Div([sidebar, content,\n",
    "    html.Iframe(id='html-iframe', srcDoc=initial_html, style={\"position\": \"absolute\", \"top\": \"10px\", \"right\": \"50px\"}, width=\"65%\",\n",
    "            height=\"600\"),\n",
    "    html.Br(),\n",
    "    html.Br(),\n",
    "    html.Div([\n",
    "        html.Label('Select a week:'),\n",
    "        \n",
    "        dcc.Slider(\n",
    "            id='my-slider',\n",
    "          min=0,\n",
    "            max=2,\n",
    "            value=1,\n",
    "            step=1,\n",
    "        updatemode='drag',\n",
    "           marks={0: 'Week1', 1: 'Week2', 2: 'Week3'}\n",
    "        )\n",
    "    ], style={'width': '65%', 'margin': '450px','margin-top': '500px',\n",
    "        'color': '#FFFFFF',\n",
    "        'fontSize': '10px',\n",
    "        'padding': '5px'})\n",
    "])"
   ]
  },
  {
   "cell_type": "code",
   "execution_count": 9,
   "id": "afc9cae8-9d81-4dce-898b-a3195e07445c",
   "metadata": {},
   "outputs": [],
   "source": [
    "# Define the page layout for page 1\n",
    "page1_layout = html.Div(\n",
    "    children=[\n",
    "        html.H1(\"This is Page 1\"),\n",
    "        html.P(\"Welcome to Page 1!\")\n",
    "    ]\n",
    ")\n",
    "\n",
    "# Define the page layout for page 2\n",
    "#page2_layout = html.Div(\n",
    "#    children=[\n",
    "#        html.H1(\"This is Page 2\"),\n",
    "#        html.P(\"Welcome to Page 2!\")\n",
    "#    ]\n",
    "#)"
   ]
  },
  {
   "cell_type": "code",
   "execution_count": 10,
   "id": "356dfe62-8ce2-414e-88b0-06947c7489f2",
   "metadata": {},
   "outputs": [],
   "source": [
    "# Define the app layout\n",
    "app.layout = html.Div(\n",
    "    children=[\n",
    "        current_layout,\n",
    "        html.Div(id=\"page-content\")\n",
    "    ]\n",
    ")"
   ]
  },
  {
   "cell_type": "code",
   "execution_count": 11,
   "id": "94f93bbc-54f3-45c6-8aa3-72792dcf0dad",
   "metadata": {},
   "outputs": [],
   "source": [
    "# Define the callback to update the page content based on the URL and button click\n",
    "@app.callback(\n",
    "    [Output(\"page-content\", \"children\"), Output(\"current-layout\", \"data\")],\n",
    "    [Input(\"url\", \"pathname\"), Input(\"go-to-new-page\", \"n_clicks\")],\n",
    "    [State(\"current-layout\", \"data\")]"
   ]
  },
  {
   "cell_type": "code",
   "execution_count": null,
   "id": "99130a93-aec9-4728-88a7-12d32354c4ae",
   "metadata": {},
   "outputs": [],
   "source": [
    "def display_page(pathname, n_clicks, current_layout):\n",
    "    # Default to home layout\n",
    "    new_layout = app.layout\n",
    "\n",
    "    # Update the layout if the button is clicked\n",
    "    if n_clicks:\n",
    "        new_layout = new_layout\n",
    "\n",
    "    # Return the new layout and update the current layout\n",
    "    return new_layout, new_layout"
   ]
  },
  {
   "cell_type": "code",
   "execution_count": 12,
   "id": "d2237933-6b00-4cfb-9d04-bad5408ca089",
   "metadata": {},
   "outputs": [],
   "source": [
    "# Define the callback function for the slider bar\n",
    "@app.callback(\n",
    "    Output('html-iframe', 'srcDoc'),\n",
    "    Input('my-slider', 'value')\n",
    ")\n",
    "def update_output(value):\n",
    "    # Define the HTML content to display based on the value of the slider bar\n",
    "    if value == 0:\n",
    "        return open('social_network1.html', 'r').read()\n",
    "    elif value == 1:\n",
    "        return open('social_network2.html', 'r').read()\n",
    "    elif value == 2:\n",
    "        return open('social_network3.html', 'r').read()"
   ]
  },
  {
   "cell_type": "code",
   "execution_count": 13,
   "id": "3625fdb1-8842-418f-baf4-186406955029",
   "metadata": {},
   "outputs": [],
   "source": [
    "@app.callback(Output('page-content', 'children'),\n",
    "              [Input('url', 'pathname')])\n",
    "def display_page(pathname):\n",
    "    time.sleep(2) # simulate a delay in loading the page\n",
    "    if pathname == '/page-1':\n",
    "        return page1_layout\n",
    "    elif pathname == '/page-2':\n",
    "        return page2_layout\n",
    "    else:\n",
    "        return html.Div(\"404 Page not found\")"
   ]
  },
  {
   "cell_type": "code",
   "execution_count": 15,
   "id": "b5a579b0-f1c4-462e-b457-ac42d05d07df",
   "metadata": {},
   "outputs": [
    {
     "name": "stdout",
     "output_type": "stream",
     "text": [
      "Dash is running on http://127.0.0.1:8056/\n",
      "\n",
      " * Serving Flask app \"__main__\" (lazy loading)\n",
      " * Environment: production\n",
      "\u001b[31m   WARNING: This is a development server. Do not use it in a production deployment.\u001b[0m\n",
      "\u001b[2m   Use a production WSGI server instead.\u001b[0m\n",
      " * Debug mode: off\n"
     ]
    },
    {
     "name": "stderr",
     "output_type": "stream",
     "text": [
      " * Running on http://127.0.0.1:8056/ (Press CTRL+C to quit)\n",
      "127.0.0.1 - - [09/Mar/2023 16:15:56] \"GET / HTTP/1.1\" 200 -\n",
      "127.0.0.1 - - [09/Mar/2023 16:15:56] \"GET /_dash-layout HTTP/1.1\" 200 -\n",
      "127.0.0.1 - - [09/Mar/2023 16:15:56] \"GET /_dash-dependencies HTTP/1.1\" 200 -\n",
      "127.0.0.1 - - [09/Mar/2023 16:15:56] \"GET /_dash-component-suites/dash/dcc/async-slider.js HTTP/1.1\" 200 -\n",
      "127.0.0.1 - - [09/Mar/2023 16:15:56] \"GET /lib/bindings/utils.js HTTP/1.1\" 200 -\n",
      "127.0.0.1 - - [09/Mar/2023 16:15:56] \"POST /_dash-update-component HTTP/1.1\" 200 -\n"
     ]
    }
   ],
   "source": [
    "# Run the app\n",
    "if __name__ == '__main__':\n",
    "    app.run_server(port=8056)"
   ]
  },
  {
   "cell_type": "code",
   "execution_count": null,
   "id": "5e3dbc5b-9fa8-4738-82ef-3e24d4476f94",
   "metadata": {},
   "outputs": [],
   "source": [
    "#########################################################"
   ]
  },
  {
   "cell_type": "code",
   "execution_count": 1,
   "id": "bdad5c51-336f-4921-82b0-a929cbaa898b",
   "metadata": {
    "tags": []
   },
   "outputs": [],
   "source": [
    "import pandas as pd\n",
    "import plotly.express as px\n",
    "from pyvis.network import Network\n",
    "\n",
    "import dash\n",
    "from dash import dcc\n",
    "from dash import html\n",
    "import dash_bootstrap_components as dbc\n",
    "import plotly.graph_objs as go\n",
    "from dash.dependencies import Input, Output, State\n",
    "import sys\n",
    "import os"
   ]
  },
  {
   "cell_type": "code",
   "execution_count": 2,
   "id": "c1115347-664b-4c2a-8623-6d3c2ca3aff9",
   "metadata": {},
   "outputs": [],
   "source": [
    "# Initialize the app\n",
    "app = dash.Dash(__name__)\n",
    "\n",
    "# Define the sidebar content\n",
    "sidebar = html.Nav(\n",
    "    className=\"sidebar\",\n",
    "    children=[\n",
    "        html.Ul(\n",
    "            className=\"nav-menu\",\n",
    "            children=[\n",
    "                html.Li(html.A(\"Home\", href=\"/\")),\n",
    "                html.Li(html.A(\"Page 1\", href=\"/page1\")),\n",
    "                html.Li(html.A(\"Page 2\", href=\"/page2\"))\n",
    "            ]\n",
    "        )\n",
    "    ]\n",
    ")\n",
    "\n",
    "# Define the home layout\n",
    "home_layout = html.Div(\n",
    "    className=\"content\",\n",
    "    children=[\n",
    "        html.H1(\"Welcome to the Home Page\")\n",
    "    ]\n",
    ")\n",
    "\n",
    "# Define the app layout\n",
    "app.layout = html.Div(\n",
    "    children=[\n",
    "        sidebar,\n",
    "        html.Div(\n",
    "            className=\"main-content\",\n",
    "            children=[\n",
    "                dcc.Location(id=\"url\", refresh=False),\n",
    "                html.Div(id=\"page-content\")\n",
    "            ]\n",
    "        )\n",
    "    ]\n",
    ")"
   ]
  },
  {
   "cell_type": "code",
   "execution_count": 3,
   "id": "1852bba5-c26e-486e-9e05-8e4fe959a023",
   "metadata": {},
   "outputs": [],
   "source": [
    "# add some padding.\n",
    "CONTENT_STYLE = {\n",
    "    \"margin-left\": \"25rem\",\n",
    "    \"margin-right\": \"0rem\",\n",
    "    \"padding\": \"2rem 1rem\",\n",
    "}"
   ]
  },
  {
   "cell_type": "code",
   "execution_count": 4,
   "id": "e43eea22-97ec-4d14-bef3-2b436fe18ceb",
   "metadata": {},
   "outputs": [],
   "source": [
    "div1 = html.Div([html.Iframe(src=app.get_asset_url(\"social_network1.html\"), style={\"width\":\"100%\", \"height\":\"700px\"}, id=\"graph1\")], style={\"background\":\"transparent\", \"height\":\"700px\"})\n",
    "div2 = html.Div([html.Iframe(src=app.get_asset_url(\"social_network2.html\"), style={\"width\":\"100%\", \"height\":\"700px\"}, id=\"graph2\")], style={\"background\":\"transparent\", \"height\":\"700px\"})\n",
    "div3 = html.Div([html.Iframe(src=app.get_asset_url(\"social_network3.html\"), style={\"width\":\"100%\", \"height\":\"700px\"}, id=\"graph3\")], style={\"background\":\"transparent\", \"height\":\"700px\"})\n",
    "\n",
    "content = html.Div(id=\"page-content\", style=CONTENT_STYLE)"
   ]
  },
  {
   "cell_type": "code",
   "execution_count": 5,
   "id": "5c1b1a82-9bfd-4edd-898b-7ab68b3c7756",
   "metadata": {},
   "outputs": [],
   "source": [
    "# Define the initial HTML content to display in the Iframe component\n",
    "initial_html = open('social_network1.html', 'r').read()"
   ]
  },
  {
   "cell_type": "code",
   "execution_count": 6,
   "id": "98f02a70-a5fc-447b-bec3-3ab7a129d1ea",
   "metadata": {},
   "outputs": [],
   "source": [
    "with open('social_network2.html', 'r') as f:\n",
    "    second_html = f.read()\n",
    "    \n",
    "with open('social_network3.html', 'r') as f:\n",
    "    third_html = f.read()"
   ]
  },
  {
   "cell_type": "code",
   "execution_count": 7,
   "id": "01a0a17d-1f46-4668-b772-9a2a079bda28",
   "metadata": {},
   "outputs": [],
   "source": [
    "# Define the app layout with an Iframe component and a slider bar\n",
    "page1_layout = html.Div([content,\n",
    "    html.Iframe(id='html-iframe', srcDoc=initial_html, style={\"position\": \"absolute\", \"top\": \"10px\", \"right\": \"50px\"}, width=\"65%\",\n",
    "            height=\"600\"),\n",
    "    html.Br(),\n",
    "    html.Br(),\n",
    "    html.Div([\n",
    "        html.Label('Select a week:'),\n",
    "        \n",
    "        dcc.Slider(\n",
    "            id='my-slider',\n",
    "          min=0,\n",
    "            max=2,\n",
    "            value=1,\n",
    "            step=1,\n",
    "        updatemode='drag',\n",
    "           marks={0: 'Week1', 1: 'Week2', 2: 'Week3'}\n",
    "        )\n",
    "    ], style={'width': '65%', 'margin': '450px','margin-top': '500px',\n",
    "        'color': '#FFFFFF',\n",
    "        'fontSize': '10px',\n",
    "        'padding': '5px'})\n",
    "])"
   ]
  },
  {
   "cell_type": "code",
   "execution_count": 8,
   "id": "bec2ae3e-7564-4549-ab74-27374cd7b8f0",
   "metadata": {},
   "outputs": [],
   "source": [
    "# Define the callback function for the slider bar\n",
    "@app.callback(\n",
    "    Output('html-iframe', 'srcDoc'),\n",
    "    Input('my-slider', 'value')\n",
    ")\n",
    "def update_output(value):\n",
    "    # Define the HTML content to display based on the value of the slider bar\n",
    "    if value == 0:\n",
    "        return open('social_network1.html', 'r').read()\n",
    "    elif value == 1:\n",
    "        return open('social_network2.html', 'r').read()\n",
    "    elif value == 2:\n",
    "        return open('social_network3.html', 'r').read()"
   ]
  },
  {
   "cell_type": "code",
   "execution_count": null,
   "id": "541d7da3-191b-477d-b4b4-2f926a3411ad",
   "metadata": {},
   "outputs": [
    {
     "name": "stdout",
     "output_type": "stream",
     "text": [
      "Dash is running on http://127.0.0.1:8057/\n",
      "\n",
      " * Serving Flask app \"__main__\" (lazy loading)\n",
      " * Environment: production\n",
      "\u001b[31m   WARNING: This is a development server. Do not use it in a production deployment.\u001b[0m\n",
      "\u001b[2m   Use a production WSGI server instead.\u001b[0m\n",
      " * Debug mode: off\n"
     ]
    },
    {
     "name": "stderr",
     "output_type": "stream",
     "text": [
      " * Running on http://127.0.0.1:8057/ (Press CTRL+C to quit)\n",
      "127.0.0.1 - - [09/Mar/2023 16:39:35] \"GET / HTTP/1.1\" 200 -\n",
      "127.0.0.1 - - [09/Mar/2023 16:39:36] \"GET /_dash-layout HTTP/1.1\" 200 -\n",
      "127.0.0.1 - - [09/Mar/2023 16:39:36] \"GET /_dash-dependencies HTTP/1.1\" 200 -\n",
      "127.0.0.1 - - [09/Mar/2023 16:39:36] \"POST /_dash-update-component HTTP/1.1\" 200 -\n",
      "127.0.0.1 - - [09/Mar/2023 16:39:37] \"GET /page1 HTTP/1.1\" 200 -\n",
      "127.0.0.1 - - [09/Mar/2023 16:39:37] \"GET /_dash-layout HTTP/1.1\" 200 -\n",
      "127.0.0.1 - - [09/Mar/2023 16:39:37] \"GET /_dash-dependencies HTTP/1.1\" 200 -\n",
      "127.0.0.1 - - [09/Mar/2023 16:39:37] \"POST /_dash-update-component HTTP/1.1\" 200 -\n",
      "127.0.0.1 - - [09/Mar/2023 16:39:37] \"GET /_dash-component-suites/dash/dcc/async-slider.js HTTP/1.1\" 200 -\n",
      "127.0.0.1 - - [09/Mar/2023 16:39:37] \"POST /_dash-update-component HTTP/1.1\" 200 -\n",
      "127.0.0.1 - - [09/Mar/2023 16:39:37] \"GET /lib/bindings/utils.js HTTP/1.1\" 200 -\n",
      "127.0.0.1 - - [09/Mar/2023 16:39:56] \"GET /page2 HTTP/1.1\" 200 -\n",
      "127.0.0.1 - - [09/Mar/2023 16:39:56] \"GET /_dash-layout HTTP/1.1\" 200 -\n",
      "127.0.0.1 - - [09/Mar/2023 16:39:56] \"GET /_dash-dependencies HTTP/1.1\" 200 -\n",
      "127.0.0.1 - - [09/Mar/2023 16:39:56] \"POST /_dash-update-component HTTP/1.1\" 200 -\n",
      "127.0.0.1 - - [09/Mar/2023 16:39:57] \"GET / HTTP/1.1\" 200 -\n",
      "127.0.0.1 - - [09/Mar/2023 16:39:57] \"GET /_dash-layout HTTP/1.1\" 200 -\n",
      "127.0.0.1 - - [09/Mar/2023 16:39:57] \"GET /_dash-dependencies HTTP/1.1\" 200 -\n",
      "127.0.0.1 - - [09/Mar/2023 16:39:57] \"POST /_dash-update-component HTTP/1.1\" 200 -\n",
      "127.0.0.1 - - [09/Mar/2023 16:39:58] \"GET /page1 HTTP/1.1\" 200 -\n",
      "127.0.0.1 - - [09/Mar/2023 16:39:58] \"GET /_dash-layout HTTP/1.1\" 200 -\n",
      "127.0.0.1 - - [09/Mar/2023 16:39:58] \"GET /_dash-dependencies HTTP/1.1\" 200 -\n",
      "127.0.0.1 - - [09/Mar/2023 16:39:58] \"POST /_dash-update-component HTTP/1.1\" 200 -\n",
      "127.0.0.1 - - [09/Mar/2023 16:39:58] \"GET /_dash-component-suites/dash/dcc/async-slider.js HTTP/1.1\" 200 -\n",
      "127.0.0.1 - - [09/Mar/2023 16:39:58] \"POST /_dash-update-component HTTP/1.1\" 200 -\n",
      "127.0.0.1 - - [09/Mar/2023 16:39:58] \"GET /lib/bindings/utils.js HTTP/1.1\" 200 -\n"
     ]
    }
   ],
   "source": [
    "# Define the callback to update the page content based on the URL\n",
    "@app.callback(dash.dependencies.Output(\"page-content\", \"children\"), [dash.dependencies.Input(\"url\", \"pathname\")])\n",
    "def display_page(pathname):\n",
    "    if pathname == \"/page1\":\n",
    "        return page1_layout\n",
    "        #return html.H1(\"This is Page 1\")\n",
    "    elif pathname == \"/page2\":\n",
    "        return html.H1(\"This is Page 2\")\n",
    "    else:\n",
    "        return home_layout\n",
    "\n",
    "# Run the app\n",
    "if __name__ == '__main__':\n",
    "    app.run_server(port=8057)"
   ]
  },
  {
   "cell_type": "code",
   "execution_count": null,
   "id": "53250f9d-db6d-44b4-9d20-6d666b7d5fbc",
   "metadata": {},
   "outputs": [],
   "source": []
  }
 ],
 "metadata": {
  "kernelspec": {
   "display_name": "Python 3 (ipykernel)",
   "language": "python",
   "name": "python3"
  },
  "language_info": {
   "codemirror_mode": {
    "name": "ipython",
    "version": 3
   },
   "file_extension": ".py",
   "mimetype": "text/x-python",
   "name": "python",
   "nbconvert_exporter": "python",
   "pygments_lexer": "ipython3",
   "version": "3.9.13"
  }
 },
 "nbformat": 4,
 "nbformat_minor": 5
}
