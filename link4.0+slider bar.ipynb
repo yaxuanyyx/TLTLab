{
 "cells": [
  {
   "cell_type": "code",
   "execution_count": 3,
   "id": "faa6935a-b188-485b-afdf-0c26d10a5909",
   "metadata": {},
   "outputs": [
    {
     "name": "stdout",
     "output_type": "stream",
     "text": [
      "Requirement already satisfied: dash in /Users/yyaxuan/opt/anaconda3/lib/python3.9/site-packages (2.9.1)\n",
      "Requirement already satisfied: plotly>=5.0.0 in /Users/yyaxuan/opt/anaconda3/lib/python3.9/site-packages (from dash) (5.9.0)\n",
      "Requirement already satisfied: dash-table==5.0.0 in /Users/yyaxuan/opt/anaconda3/lib/python3.9/site-packages (from dash) (5.0.0)\n",
      "Requirement already satisfied: dash-core-components==2.0.0 in /Users/yyaxuan/opt/anaconda3/lib/python3.9/site-packages (from dash) (2.0.0)\n",
      "Requirement already satisfied: dash-html-components==2.0.0 in /Users/yyaxuan/opt/anaconda3/lib/python3.9/site-packages (from dash) (2.0.0)\n",
      "Requirement already satisfied: Flask>=1.0.4 in /Users/yyaxuan/opt/anaconda3/lib/python3.9/site-packages (from dash) (1.1.2)\n",
      "Requirement already satisfied: Jinja2>=2.10.1 in /Users/yyaxuan/opt/anaconda3/lib/python3.9/site-packages (from Flask>=1.0.4->dash) (2.11.3)\n",
      "Requirement already satisfied: Werkzeug>=0.15 in /Users/yyaxuan/opt/anaconda3/lib/python3.9/site-packages (from Flask>=1.0.4->dash) (2.0.3)\n",
      "Requirement already satisfied: itsdangerous>=0.24 in /Users/yyaxuan/opt/anaconda3/lib/python3.9/site-packages (from Flask>=1.0.4->dash) (2.0.1)\n",
      "Requirement already satisfied: click>=5.1 in /Users/yyaxuan/opt/anaconda3/lib/python3.9/site-packages (from Flask>=1.0.4->dash) (8.0.4)\n",
      "Requirement already satisfied: tenacity>=6.2.0 in /Users/yyaxuan/opt/anaconda3/lib/python3.9/site-packages (from plotly>=5.0.0->dash) (8.0.1)\n",
      "Requirement already satisfied: MarkupSafe>=0.23 in /Users/yyaxuan/opt/anaconda3/lib/python3.9/site-packages (from Jinja2>=2.10.1->Flask>=1.0.4->dash) (2.0.1)\n",
      "Note: you may need to restart the kernel to use updated packages.\n"
     ]
    }
   ],
   "source": [
    "pip install --upgrade dash"
   ]
  },
  {
   "cell_type": "code",
   "execution_count": 1,
   "id": "f935a97d-5ac3-430c-b72e-80114a71a371",
   "metadata": {},
   "outputs": [
    {
     "name": "stdout",
     "output_type": "stream",
     "text": [
      "2.9.1\n"
     ]
    }
   ],
   "source": [
    "import dash\n",
    "print(dash.__version__)"
   ]
  },
  {
   "cell_type": "code",
   "execution_count": 2,
   "id": "36e5197f-70d3-453d-86f5-e51f462ab0a9",
   "metadata": {},
   "outputs": [],
   "source": [
    "import dash\n",
    "import dash_bootstrap_components as dbc\n",
    "from dash import html\n",
    "from dash import dcc\n",
    "import pandas as pd\n",
    "import numpy as np\n",
    "import plotly.express as px\n",
    "from dash.dependencies import Input, Output, State\n",
    "from dash.exceptions import PreventUpdate\n",
    "\n",
    "import dash_daq as daq"
   ]
  },
  {
   "cell_type": "code",
   "execution_count": 3,
   "id": "343c590f-6cc9-48bb-83e7-2b082e34f2e7",
   "metadata": {},
   "outputs": [],
   "source": [
    "df = pd.read_excel('../../../../yyaxuan/Documents/repo/TLT_Lab/week_keyword_table_s02_2021.xlsx',index_col=0)\n",
    "#fig = px.scatter(df, x='lasercut', y='lasercut',\n",
    "     #           color='lasercut', hover_name='lasercut',\n",
    "             #    log_x=True, size_max=60\n",
    "               # )"
   ]
  },
  {
   "cell_type": "code",
   "execution_count": 4,
   "id": "3f40b7bb-f5a2-4930-8fea-3a6aa9a8bc22",
   "metadata": {},
   "outputs": [],
   "source": [
    "app = dash.Dash(external_stylesheets=[dbc.themes.DARKLY])"
   ]
  },
  {
   "cell_type": "code",
   "execution_count": 5,
   "id": "2731e5d0-f4e8-478c-baf9-ba646032eb99",
   "metadata": {},
   "outputs": [],
   "source": [
    "app.config['suppress_callback_exceptions'] = True\n",
    "app.config['prevent_initial_callbacks'] = 'initial_duplicate'  # Enable initial duplicate callback"
   ]
  },
  {
   "cell_type": "code",
   "execution_count": 6,
   "id": "1ec920b3-a0b9-4486-b0a5-960a3131565b",
   "metadata": {},
   "outputs": [],
   "source": [
    "navbar = dbc.NavbarSimple(\n",
    "    children=[\n",
    "        dbc.NavItem(dbc.NavLink(\"TLTL Lab Link💡\", href=\"https://tltlab.org/\")),\n",
    "        dbc.DropdownMenu(\n",
    "            nav=True,\n",
    "            in_navbar=True,\n",
    "            label=\"Menu📚\",\n",
    "            children=[\n",
    "                dbc.DropdownMenuItem(\"homepage\"),\n",
    "                dbc.DropdownMenuItem(\"analysis\"),\n",
    "                dbc.DropdownMenuItem(divider=True),\n",
    "                dbc.DropdownMenuItem(\"conclusion\"),\n",
    "            ],\n",
    "        ),\n",
    "    ],\n",
    "    brand=\"Keyword Matrix📝\",\n",
    "    brand_href=\"#\",\n",
    "    sticky=\"top\",\n",
    "className=\"navbar navbar-expand-sm bg-dark .text-white navbar-dark sticky-top\" ,\n",
    ")"
   ]
  },
  {
   "cell_type": "code",
   "execution_count": 7,
   "id": "4055c997-781b-4138-bf42-5bda1cb9b1f2",
   "metadata": {},
   "outputs": [],
   "source": [
    "# Individual Weekly Graph\n",
    "div1 = html.Div([html.Iframe(src=app.get_asset_url(\"s1_aggregate_network1.html\"), id=\"graph1\")] ) #width='90%', height='600', , style={\"background\":\"transparent\", \"height\":\"700px\"})\n",
    "div2 = html.Div([html.Iframe(src=app.get_asset_url(\"s2_weekly_network1.html\"), id=\"graph2\")] ) #width='90%', height='600', , style={\"background\":\"transparent\", \"height\":\"700px\"})\n",
    "div3 = html.Div([html.Iframe(src=app.get_asset_url(\"s3_weekly_network1.html\"), id=\"graph3\")] ) #width='90%', height='600', , style={\"background\":\"transparent\", \"height\":\"700px\"})\n",
    "\n",
    "content = html.Div(id=\"page-content\")"
   ]
  },
  {
   "cell_type": "code",
   "execution_count": 8,
   "id": "df993142-5be4-4bb2-996d-96c4d461d8bd",
   "metadata": {},
   "outputs": [],
   "source": [
    "# Define the initial HTML content to display in the Iframe component\n",
    "initial_html = open('s1_aggregate_network1.html', 'r').read()"
   ]
  },
  {
   "cell_type": "code",
   "execution_count": 9,
   "id": "f7e1ddb7-84ec-4fb5-80e6-cdc55fb63931",
   "metadata": {},
   "outputs": [],
   "source": [
    "with open('s2_weekly_network1.html', 'r') as f:\n",
    "    second_html = f.read()\n",
    "    \n",
    "with open('s3_weekly_network1.html', 'r') as f:\n",
    "    third_html = f.read()"
   ]
  },
  {
   "cell_type": "code",
   "execution_count": 10,
   "id": "a3e9e5ea-1478-44e9-ad5e-b95769facd93",
   "metadata": {},
   "outputs": [],
   "source": [
    "# Individual Aggregate Graph\n",
    "div4 = html.Div([html.Iframe(src=app.get_asset_url(\"s1_aggregate_network1.html\"), id=\"graph1\")] ) #width='90%', height='600', , style={\"background\":\"transparent\", \"height\":\"700px\"})\n",
    "div5 = html.Div([html.Iframe(src=app.get_asset_url(\"s2_aggregate_network1.html\"), id=\"graph2\")] ) #width='90%', height='600', , style={\"background\":\"transparent\", \"height\":\"700px\"})\n",
    "div6 = html.Div([html.Iframe(src=app.get_asset_url(\"s3_aggregate_network1.html\"), id=\"graph3\")] ) #width='90%', height='600', , style={\"background\":\"transparent\", \"height\":\"700px\"})\n",
    "\n",
    "content = html.Div(id=\"page-content\")"
   ]
  },
  {
   "cell_type": "code",
   "execution_count": 11,
   "id": "391c8c5e-671d-4d42-a730-486614bd82be",
   "metadata": {},
   "outputs": [],
   "source": [
    "# Define the initial HTML content to display in the Iframe component\n",
    "initial_html_aggregate = open('s1_aggregate_network1.html', 'r').read()"
   ]
  },
  {
   "cell_type": "code",
   "execution_count": 12,
   "id": "adc3b866-491a-48d6-81be-8c5547ce6490",
   "metadata": {},
   "outputs": [],
   "source": [
    "with open('s2_aggregate_network1.html', 'r') as f:\n",
    "    second_html_aggregate = f.read()\n",
    "    \n",
    "with open('s3_aggregate_network1.html', 'r') as f:\n",
    "    third_html_aggregate = f.read()"
   ]
  },
  {
   "cell_type": "code",
   "execution_count": 13,
   "id": "5c1407a0-b624-4e67-83f3-0f7d8ecdcace",
   "metadata": {},
   "outputs": [],
   "source": [
    "# Define a dictionary with student names as keys and HTML content for each week as values\n",
    "students = {\n",
    "    'student 1': {\n",
    "        'Week 1': 's1_aggregate_network1.html',\n",
    "        'Week 2': 's1_aggregate_network2.html',\n",
    "        'Week 3': 's1_aggregate_network3.html'\n",
    "    },\n",
    "    'student 2': {\n",
    "        'Week 1': 's2_weekly_network1.html',\n",
    "        'Week 2': 's2_weekly_network2.html',\n",
    "        'Week 3': 's2_weekly_network3.html'\n",
    "    },\n",
    "    'student 3': {\n",
    "        'Week 1': 's3_weekly_network1.html',\n",
    "        'Week 2': 's3_weekly_network2.html',\n",
    "        'Week 3': 's3_weekly_network3.html'\n",
    "    }\n",
    "}"
   ]
  },
  {
   "cell_type": "code",
   "execution_count": 14,
   "id": "125203bb-eebb-4886-b63f-458963e15810",
   "metadata": {},
   "outputs": [],
   "source": [
    "# Define the Sidebar\n",
    "sidebar = html.Div(\n",
    "    [\n",
    "        dbc.Row(\n",
    "            [\n",
    "                html.H5('Find yourself here!',\n",
    "                        style={'margin-top': '12px', 'margin-left': '24px'})\n",
    "            ],\n",
    "            style={\"height\": \"5vh\"},\n",
    "            className='bg-light text-white'\n",
    "        ),\n",
    "        dbc.Row(\n",
    "            [\n",
    "                html.Div([ html.Hr(),\n",
    "                    html.P('Find your name to see individual weekly keywords',\n",
    "                           style={'margin-top': '8px', 'margin-bottom': '4px'},\n",
    "                           className='bg-dark text-white'),\n",
    "                    dcc.Dropdown(id='dropdown',\n",
    "    options=[{'label': name, 'value': name} for name in students.keys()],\n",
    "    value=list(students.keys())[0], multi=False, \n",
    "                                 style={'width': '220px', 'color':'#000000'}\n",
    "                                 ),                       \n",
    "                          \n",
    "                    html.P('Find your name to see your individual aggregated keywords in 4 weeks',\n",
    "                           style={'margin-top': '16px', 'margin-bottom': '4px'},\n",
    "                           className='bg-dark text-white'),\n",
    "                    dcc.Dropdown(id='my-dropdown-2', options=[{'label': 'student 1', 'value': 'optionA'}, {'label': 'student 2', 'value': 'optionB'}, {'label': 'student 3', 'value': 'optionC'}], multi=False, \n",
    "                                 style={'width': '220px', 'color':'#000000'}\n",
    "                                 ),\n",
    "\n",
    "                    html.P('See keywords of the whole class in 4 weeks',\n",
    "                           style={'margin-top': '16px', 'margin-bottom': '4px'},\n",
    "                           className='bg-dark text-white'),\n",
    "             dcc.Dropdown(id='my-dropdown-3', options=[{'label': 'week 1', 'value': 'option a'}, {'label': 'week 2', 'value': 'option b'}, {'label': 'week 3', 'value': 'option c'}, {'label': 'week 4', 'value': 'option d'}],multi=False, \n",
    "                                 style={'width': '220px', 'color':'#000000'}\n",
    "                                 ),\n",
    "                    html.Button(id='my-button', n_clicks=0, children='apply',\n",
    "                                style={'margin-top': '16px'},\n",
    "                                className='bg-dark text-white'),\n",
    "                    html.Hr()\n",
    "                ])\n",
    "            ],\n",
    "            style={'height': '50vh', 'margin': '8px', 'display': 'flex'}), html.Hr(),\n",
    "        \n",
    "        dbc.Row(\n",
    "            [\n",
    "                html.P('Brief instruction: xxxxxx', className='bg-dark text-white')\n",
    "            ],\n",
    "            style={\"height\": \"45vh\", 'margin': '8px', 'display': 'flex'}\n",
    "        ),\n",
    "        html.Div(id='my-output')\n",
    "    ]\n",
    ")"
   ]
  },
  {
   "cell_type": "code",
   "execution_count": 15,
   "id": "185f397b-a2c3-45f6-89e5-5d9c3880a19c",
   "metadata": {},
   "outputs": [],
   "source": [
    "# Define the App Layout\n",
    "app.layout = html.Div(\n",
    "    [dbc.Container(\n",
    "    [dbc.Row(dbc.Col(navbar, width=40)),\n",
    "html.Hr(),\n",
    "        dbc.Row(\n",
    "            [\n",
    "                dbc.Col(sidebar, width=3, className='bg-dark'),\n",
    "                #dbc.Col(content, width=9)\n",
    "                dbc.Col(\n",
    "                    [\n",
    "                        html.P('individual weekly keywords',className='font-weight-bold'),\n",
    "                        html.Iframe(id='html-iframe', srcDoc=initial_html, width='95%', height='600', \n",
    "                                    style={'height': '45vh'}),\n",
    "                        \n",
    "                        dbc.Row([dbc.Col([ html.Div([\n",
    "        #html.Label('Select a week:', style={'fontSize': '20px'}),\n",
    "        dcc.Slider(\n",
    "            id='my-slider',\n",
    "          min=0,\n",
    "            max=2,\n",
    "            value=1,\n",
    "            step=1,\n",
    "        updatemode='drag',\n",
    "           marks={\n",
    "        0: {'label': 'Week 1'},\n",
    "        1: {'label': 'Week 2'},\n",
    "        2: {'label': 'Week 3'}\n",
    "    }\n",
    "        )\n",
    "    ], style={'width': '35%', 'margin': '30px','margin-top': '20px',\n",
    "        'color': '#000000',\n",
    "        'fontSize': '10px',\n",
    "        'padding': '5px'})\n",
    "                      ]) ]),\n",
    "                        \n",
    "                        \n",
    "                        ]),       \n",
    "                \n",
    "                dbc.Col(\n",
    "                    [\n",
    "                        html.P('individual aggregated keywords',className='font-weight-bold'),\n",
    "                        html.Iframe(id='html-iframe-2', srcDoc=initial_html_aggregate, width='95%', height='600',\n",
    "                                    style={'height': '45vh'}),  \n",
    "                        \n",
    "                        dbc.Row([dbc.Col([ html.Div([\n",
    "        #html.Label('Select a week:', style={'fontSize': '20px'}),\n",
    "        dcc.Slider(\n",
    "            id='my-slider-2',\n",
    "          min=0,\n",
    "            max=2,\n",
    "            value=1,\n",
    "            step=1,\n",
    "        updatemode='drag',\n",
    "           marks={0: 'Week1', 1: 'Week2', 2: 'Week3'}\n",
    "        )\n",
    "    ], style={'width': '35%', 'margin': '30px','margin-top': '20px',\n",
    "        'color': '#000000',\n",
    "        'fontSize': '10px',\n",
    "        'padding': '5px'})\n",
    "                      ]) ])\n",
    "                                      \n",
    "                    ])\n",
    "                ],style={\"height\": \"50vh\"}\n",
    "            ),  \n",
    "     \n",
    "     dbc.Row(\n",
    "           [\n",
    "                dbc.Col(\n",
    "                    [\n",
    "                        html.P('keywords of the whole class'),\n",
    "    #                html.Div([\n",
    "    #                    dcc.Graph(id='keywords', figure=fig)\n",
    "    #                ]), #md=10,\n",
    "\n",
    "                    ])\n",
    "            ],\n",
    "            style={\"height\": \"50vh\", 'margin': '8px'}\n",
    "            )\n",
    "        ],\n",
    "    fluid=True\n",
    "    )\n",
    "    ])"
   ]
  },
  {
   "cell_type": "code",
   "execution_count": 16,
   "id": "924eee44-f347-45f4-9b12-40786251f46e",
   "metadata": {},
   "outputs": [],
   "source": [
    "# Define the callback function for Individual Weekly Graph\n",
    "@app.callback(\n",
    "    Output('html-iframe', 'srcDoc'),\n",
    "    Input('my-dropdown', 'value'),\n",
    "    prevent_initial_call=True\n",
    ")\n",
    "def update_output(value):\n",
    "    # Define the HTML content to display based on the dropdown menu\n",
    "    if value == 'option1':\n",
    "        return open('s1_aggregate_network1.html', 'r').read()\n",
    "    elif value == 'option2':\n",
    "        return open('s2_weekly_network1.html', 'r').read()\n",
    "    elif value == 'option3':\n",
    "        return open('s3_weekly_network1.html', 'r').read()"
   ]
  },
  {
   "cell_type": "code",
   "execution_count": 17,
   "id": "5b1b99a4-3203-4033-9138-70323c8de844",
   "metadata": {},
   "outputs": [],
   "source": [
    "# Define callback to update HTML component\n",
    "@app.callback(\n",
    "    Output('html-iframe', 'srcDoc'),\n",
    "    Input('my-slider', 'value'),\n",
    "    Input('dropdown', 'value'),\n",
    "    prevent_initial_call=True\n",
    ")\n",
    "def update_html(slider_value, dropdown_value):\n",
    "    # Get HTML file path for selected student and week\n",
    "    html_path = os.path.join(students[dropdown_value]['Week ' + str(slider_value)])\n",
    "    \n",
    "    # Read contents of HTML file\n",
    "    with open(html_path, 'r') as f:\n",
    "        html_content = f.read()\n",
    "    \n",
    "    # Return HTML content as component\n",
    "    return html.Div([\n",
    "        html.Iframe(srcDoc=html_content)\n",
    "    ])"
   ]
  },
  {
   "cell_type": "code",
   "execution_count": 18,
   "id": "835b7286-b7b7-4fde-9b35-4e1301ea43fa",
   "metadata": {},
   "outputs": [],
   "source": [
    "# Define the callback function for Individual Aggregate Graph\n",
    "@app.callback(\n",
    "    Output('html-iframe-2', 'srcDoc'),\n",
    "    Input('my-dropdown-2', 'value')\n",
    ")\n",
    "def update_output(value):\n",
    "    # Define the HTML content to display based on the dropdown menu\n",
    "    if value == 'optionA':\n",
    "        return open('s1_aggregate_network1.html', 'r').read()\n",
    "    elif value == 'optionB':\n",
    "        return open('s2_aggregate_network1.html', 'r').read()\n",
    "    elif value == 'optionC':\n",
    "        return open('s3_aggregate_network1.html', 'r').read()"
   ]
  },
  {
   "cell_type": "code",
   "execution_count": 19,
   "id": "e4a0af6e-33f1-4f48-99ce-3f5d5aff531c",
   "metadata": {},
   "outputs": [
    {
     "name": "stdout",
     "output_type": "stream",
     "text": [
      "Dash is running on http://127.0.0.1:8075/\n",
      "\n",
      " * Serving Flask app \"__main__\" (lazy loading)\n",
      " * Environment: production\n",
      "\u001b[31m   WARNING: This is a development server. Do not use it in a production deployment.\u001b[0m\n",
      "\u001b[2m   Use a production WSGI server instead.\u001b[0m\n",
      " * Debug mode: off\n"
     ]
    },
    {
     "name": "stderr",
     "output_type": "stream",
     "text": [
      " * Running on http://127.0.0.1:8075/ (Press CTRL+C to quit)\n",
      "127.0.0.1 - - [21/Mar/2023 00:09:31] \"GET / HTTP/1.1\" 200 -\n",
      "127.0.0.1 - - [21/Mar/2023 00:09:31] \"GET /_dash-layout HTTP/1.1\" 200 -\n",
      "127.0.0.1 - - [21/Mar/2023 00:09:31] \"GET /_dash-dependencies HTTP/1.1\" 200 -\n",
      "127.0.0.1 - - [21/Mar/2023 00:09:31] \"GET /_dash-component-suites/dash/dcc/async-dropdown.js HTTP/1.1\" 200 -\n",
      "127.0.0.1 - - [21/Mar/2023 00:09:31] \"GET /_dash-component-suites/dash/dcc/async-slider.js HTTP/1.1\" 200 -\n",
      "127.0.0.1 - - [21/Mar/2023 00:09:31] \"GET /lib/bindings/utils.js HTTP/1.1\" 200 -\n",
      "127.0.0.1 - - [21/Mar/2023 00:09:31] \"GET /lib/bindings/utils.js HTTP/1.1\" 200 -\n"
     ]
    }
   ],
   "source": [
    "if __name__ == \"__main__\":\n",
    "    app.run_server(port=8075)"
   ]
  },
  {
   "cell_type": "code",
   "execution_count": null,
   "id": "ef588bfc-3468-4004-a291-bd3911d4977e",
   "metadata": {},
   "outputs": [],
   "source": []
  },
  {
   "cell_type": "code",
   "execution_count": null,
   "id": "025c3683-9085-42cb-9ed9-21d9307bf2be",
   "metadata": {},
   "outputs": [],
   "source": []
  },
  {
   "cell_type": "code",
   "execution_count": 12,
   "id": "65a7ecad-1447-4226-9f46-2fe3ce2acdf3",
   "metadata": {},
   "outputs": [
    {
     "name": "stdout",
     "output_type": "stream",
     "text": [
      "Requirement already satisfied: dash in /Users/yyaxuan/opt/anaconda3/lib/python3.9/site-packages (2.8.1)\n",
      "Collecting dash\n",
      "  Downloading dash-2.9.1-py3-none-any.whl (10.2 MB)\n",
      "\u001b[2K     \u001b[90m━━━━━━━━━━━━━━━━━━━━━━━━━━━━━━━━━━━━━━━━\u001b[0m \u001b[32m10.2/10.2 MB\u001b[0m \u001b[31m16.0 MB/s\u001b[0m eta \u001b[36m0:00:00\u001b[0m00:01\u001b[0m0:01\u001b[0m\n",
      "\u001b[?25hRequirement already satisfied: dash-table==5.0.0 in /Users/yyaxuan/opt/anaconda3/lib/python3.9/site-packages (from dash) (5.0.0)\n",
      "Requirement already satisfied: Flask>=1.0.4 in /Users/yyaxuan/opt/anaconda3/lib/python3.9/site-packages (from dash) (1.1.2)\n",
      "Requirement already satisfied: dash-core-components==2.0.0 in /Users/yyaxuan/opt/anaconda3/lib/python3.9/site-packages (from dash) (2.0.0)\n",
      "Requirement already satisfied: dash-html-components==2.0.0 in /Users/yyaxuan/opt/anaconda3/lib/python3.9/site-packages (from dash) (2.0.0)\n",
      "Requirement already satisfied: plotly>=5.0.0 in /Users/yyaxuan/opt/anaconda3/lib/python3.9/site-packages (from dash) (5.9.0)\n",
      "Requirement already satisfied: Jinja2>=2.10.1 in /Users/yyaxuan/opt/anaconda3/lib/python3.9/site-packages (from Flask>=1.0.4->dash) (2.11.3)\n",
      "Requirement already satisfied: click>=5.1 in /Users/yyaxuan/opt/anaconda3/lib/python3.9/site-packages (from Flask>=1.0.4->dash) (8.0.4)\n",
      "Requirement already satisfied: itsdangerous>=0.24 in /Users/yyaxuan/opt/anaconda3/lib/python3.9/site-packages (from Flask>=1.0.4->dash) (2.0.1)\n",
      "Requirement already satisfied: Werkzeug>=0.15 in /Users/yyaxuan/opt/anaconda3/lib/python3.9/site-packages (from Flask>=1.0.4->dash) (2.0.3)\n",
      "Requirement already satisfied: tenacity>=6.2.0 in /Users/yyaxuan/opt/anaconda3/lib/python3.9/site-packages (from plotly>=5.0.0->dash) (8.0.1)\n",
      "Requirement already satisfied: MarkupSafe>=0.23 in /Users/yyaxuan/opt/anaconda3/lib/python3.9/site-packages (from Jinja2>=2.10.1->Flask>=1.0.4->dash) (2.0.1)\n",
      "Installing collected packages: dash\n",
      "  Attempting uninstall: dash\n",
      "    Found existing installation: dash 2.8.1\n",
      "    Uninstalling dash-2.8.1:\n",
      "      Successfully uninstalled dash-2.8.1\n",
      "Successfully installed dash-2.9.1\n",
      "Note: you may need to restart the kernel to use updated packages.\n"
     ]
    }
   ],
   "source": []
  },
  {
   "cell_type": "code",
   "execution_count": 1,
   "id": "58081a39-b219-46e3-b7d1-adb57e0565e9",
   "metadata": {},
   "outputs": [
    {
     "name": "stdout",
     "output_type": "stream",
     "text": [
      "2.9.1\n"
     ]
    }
   ],
   "source": []
  },
  {
   "cell_type": "code",
   "execution_count": null,
   "id": "c2e34908-4301-46b2-8ef7-797f88488d8d",
   "metadata": {},
   "outputs": [],
   "source": []
  }
 ],
 "metadata": {
  "kernelspec": {
   "display_name": "Python 3 (ipykernel)",
   "language": "python",
   "name": "python3"
  },
  "language_info": {
   "codemirror_mode": {
    "name": "ipython",
    "version": 3
   },
   "file_extension": ".py",
   "mimetype": "text/x-python",
   "name": "python",
   "nbconvert_exporter": "python",
   "pygments_lexer": "ipython3",
   "version": "3.9.13"
  }
 },
 "nbformat": 4,
 "nbformat_minor": 5
}
