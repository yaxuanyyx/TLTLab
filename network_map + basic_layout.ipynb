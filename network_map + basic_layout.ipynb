{
 "cells": [
  {
   "cell_type": "code",
   "execution_count": 25,
   "id": "0c95a5f6-3bf6-4f0c-b06b-916e8f97f5e7",
   "metadata": {
    "tags": []
   },
   "outputs": [
    {
     "name": "stdout",
     "output_type": "stream",
     "text": [
      "Requirement already satisfied: pyvis in /Users/yyaxuan/opt/anaconda3/lib/python3.9/site-packages (0.3.1)\n",
      "Requirement already satisfied: networkx>=1.11 in /Users/yyaxuan/opt/anaconda3/lib/python3.9/site-packages (from pyvis) (2.8.4)\n",
      "Requirement already satisfied: ipython>=5.3.0 in /Users/yyaxuan/opt/anaconda3/lib/python3.9/site-packages (from pyvis) (7.31.1)\n",
      "Requirement already satisfied: jinja2>=2.9.6 in /Users/yyaxuan/opt/anaconda3/lib/python3.9/site-packages (from pyvis) (2.11.3)\n",
      "Requirement already satisfied: jsonpickle>=1.4.1 in /Users/yyaxuan/opt/anaconda3/lib/python3.9/site-packages (from pyvis) (3.0.1)\n",
      "Requirement already satisfied: pickleshare in /Users/yyaxuan/opt/anaconda3/lib/python3.9/site-packages (from ipython>=5.3.0->pyvis) (0.7.5)\n",
      "Requirement already satisfied: setuptools>=18.5 in /Users/yyaxuan/opt/anaconda3/lib/python3.9/site-packages (from ipython>=5.3.0->pyvis) (63.4.1)\n",
      "Requirement already satisfied: decorator in /Users/yyaxuan/opt/anaconda3/lib/python3.9/site-packages (from ipython>=5.3.0->pyvis) (5.1.1)\n",
      "Requirement already satisfied: matplotlib-inline in /Users/yyaxuan/opt/anaconda3/lib/python3.9/site-packages (from ipython>=5.3.0->pyvis) (0.1.6)\n",
      "Requirement already satisfied: prompt-toolkit!=3.0.0,!=3.0.1,<3.1.0,>=2.0.0 in /Users/yyaxuan/opt/anaconda3/lib/python3.9/site-packages (from ipython>=5.3.0->pyvis) (3.0.20)\n",
      "Requirement already satisfied: appnope in /Users/yyaxuan/opt/anaconda3/lib/python3.9/site-packages (from ipython>=5.3.0->pyvis) (0.1.2)\n",
      "Requirement already satisfied: traitlets>=4.2 in /Users/yyaxuan/opt/anaconda3/lib/python3.9/site-packages (from ipython>=5.3.0->pyvis) (5.1.1)\n",
      "Requirement already satisfied: pexpect>4.3 in /Users/yyaxuan/opt/anaconda3/lib/python3.9/site-packages (from ipython>=5.3.0->pyvis) (4.8.0)\n",
      "Requirement already satisfied: backcall in /Users/yyaxuan/opt/anaconda3/lib/python3.9/site-packages (from ipython>=5.3.0->pyvis) (0.2.0)\n",
      "Requirement already satisfied: pygments in /Users/yyaxuan/opt/anaconda3/lib/python3.9/site-packages (from ipython>=5.3.0->pyvis) (2.11.2)\n",
      "Requirement already satisfied: jedi>=0.16 in /Users/yyaxuan/opt/anaconda3/lib/python3.9/site-packages (from ipython>=5.3.0->pyvis) (0.18.1)\n",
      "Requirement already satisfied: MarkupSafe>=0.23 in /Users/yyaxuan/opt/anaconda3/lib/python3.9/site-packages (from jinja2>=2.9.6->pyvis) (2.0.1)\n",
      "Requirement already satisfied: parso<0.9.0,>=0.8.0 in /Users/yyaxuan/opt/anaconda3/lib/python3.9/site-packages (from jedi>=0.16->ipython>=5.3.0->pyvis) (0.8.3)\n",
      "Requirement already satisfied: ptyprocess>=0.5 in /Users/yyaxuan/opt/anaconda3/lib/python3.9/site-packages (from pexpect>4.3->ipython>=5.3.0->pyvis) (0.7.0)\n",
      "Requirement already satisfied: wcwidth in /Users/yyaxuan/opt/anaconda3/lib/python3.9/site-packages (from prompt-toolkit!=3.0.0,!=3.0.1,<3.1.0,>=2.0.0->ipython>=5.3.0->pyvis) (0.2.5)\n",
      "Note: you may need to restart the kernel to use updated packages.\n"
     ]
    }
   ],
   "source": [
    "pip install pyvis"
   ]
  },
  {
   "cell_type": "code",
   "execution_count": 26,
   "id": "ef060c8e-c842-4274-a17d-ce7e32ce646b",
   "metadata": {},
   "outputs": [
    {
     "name": "stdout",
     "output_type": "stream",
     "text": [
      "   Unnamed: 0  category\n",
      "0    lasercut         1\n",
      "1     3dprint         2\n",
      "2    woodtool         3\n",
      "3      design         1\n",
      "4       debug         4\n",
      "5       trial         4\n",
      "6        help         4\n",
      "7    2ddesign         1\n",
      "8     measure         2\n",
      "9       angle         4\n",
      "10     shape          4\n",
      "11   material         4\n",
      "12    battery         5\n",
      "13      power         5\n",
      "===============================================\n",
      "    0         1        2         3       4      5      6     7         8   \\\n",
      "0  NaN  lasercut  3dprint  woodtool  design  debug  trial  help  2ddesign   \n",
      "1  1.0         1        1         0       0      1      1     0         0   \n",
      "2  2.0         0        0         1       1      1      0     0         0   \n",
      "3  3.0         1        0         1       0      1      1     0         1   \n",
      "\n",
      "        9      10      11        12       13     14  \n",
      "0  measure  angle  shape   material  battery  power  \n",
      "1        0      0       0         0        0      0  \n",
      "2        0      0       1         1        1      1  \n",
      "3        1      1       1         1        0      1  \n"
     ]
    }
   ],
   "source": [
    "import pandas as pd\n",
    "import plotly.express as px\n",
    "from pyvis.network import Network\n",
    "\n",
    "import dash\n",
    "from dash import dcc\n",
    "from dash import html\n",
    "import plotly.graph_objs as go\n",
    "from dash.dependencies import Input, Output, State\n",
    "\n",
    "\n",
    "# Read the Excel file into a pandas DataFrame\n",
    "df1 = pd.read_excel(\"../../../../yyaxuan/Documents/repo/TLT_Lab/keyword_category_table.xlsx\")\n",
    "df2 = pd.read_excel(\"../../../../yyaxuan/Documents/repo/TLT_Lab/week_keyword_table_s01_2021.xlsx\", header=None)\n",
    "\n",
    "\n",
    "# Show the DataFrame\n",
    "print(df1)\n",
    "print('===============================================')\n",
    "print(df2)"
   ]
  },
  {
   "cell_type": "code",
   "execution_count": 27,
   "id": "4cea0fd3-2e1c-4d7a-ac48-52788ae44ea3",
   "metadata": {},
   "outputs": [],
   "source": [
    "# create a Pyvis network object\n",
    "#net = Network(notebook=True)\n",
    "\n",
    "# loop through the rows and add nodes with a binary value of 1\n",
    "#for index, row in df2.iterrows():\n",
    "#    if row[1] == 1:\n",
    "#       net.add_node(row[0], title=row[0])\n",
    "        \n",
    "# show the network\n",
    "#net.show(\"nodes.html\")"
   ]
  },
  {
   "cell_type": "code",
   "execution_count": 28,
   "id": "c4541e0d-3f7e-4c27-afbf-00f6c74961ae",
   "metadata": {},
   "outputs": [],
   "source": [
    "#two list here. first one has all the name of people nd in sequence. second has their relationship\n",
    "#week = df2.iloc[:,0].values.tolist() #include all the row in the first column\n",
    "#exist = df2.values.tolist() #convert to list\n",
    "\n",
    "#print(week)"
   ]
  },
  {
   "cell_type": "code",
   "execution_count": 29,
   "id": "a61edead-ca23-4253-bdd5-0f051cd821a3",
   "metadata": {},
   "outputs": [
    {
     "name": "stdout",
     "output_type": "stream",
     "text": [
      "['lasercut', '3dprint', 'woodtool', 'design', 'debug', 'trial', 'help', '2ddesign', 'measure', 'angle', 'shape ', 'material', 'battery', 'power']\n",
      "=====================\n",
      "[1, 1, 0, 0, 1, 1, 0, 0, 0, 0, 0, 0, 0, 0]\n"
     ]
    },
    {
     "data": {
      "text/html": [
       "<div>\n",
       "<style scoped>\n",
       "    .dataframe tbody tr th:only-of-type {\n",
       "        vertical-align: middle;\n",
       "    }\n",
       "\n",
       "    .dataframe tbody tr th {\n",
       "        vertical-align: top;\n",
       "    }\n",
       "\n",
       "    .dataframe thead th {\n",
       "        text-align: right;\n",
       "    }\n",
       "</style>\n",
       "<table border=\"1\" class=\"dataframe\">\n",
       "  <thead>\n",
       "    <tr style=\"text-align: right;\">\n",
       "      <th></th>\n",
       "      <th>Unnamed: 0</th>\n",
       "      <th>category</th>\n",
       "    </tr>\n",
       "  </thead>\n",
       "  <tbody>\n",
       "    <tr>\n",
       "      <th>0</th>\n",
       "      <td>lasercut</td>\n",
       "      <td>1</td>\n",
       "    </tr>\n",
       "    <tr>\n",
       "      <th>1</th>\n",
       "      <td>3dprint</td>\n",
       "      <td>2</td>\n",
       "    </tr>\n",
       "    <tr>\n",
       "      <th>2</th>\n",
       "      <td>woodtool</td>\n",
       "      <td>3</td>\n",
       "    </tr>\n",
       "    <tr>\n",
       "      <th>3</th>\n",
       "      <td>design</td>\n",
       "      <td>1</td>\n",
       "    </tr>\n",
       "    <tr>\n",
       "      <th>4</th>\n",
       "      <td>debug</td>\n",
       "      <td>4</td>\n",
       "    </tr>\n",
       "    <tr>\n",
       "      <th>5</th>\n",
       "      <td>trial</td>\n",
       "      <td>4</td>\n",
       "    </tr>\n",
       "    <tr>\n",
       "      <th>6</th>\n",
       "      <td>help</td>\n",
       "      <td>4</td>\n",
       "    </tr>\n",
       "    <tr>\n",
       "      <th>7</th>\n",
       "      <td>2ddesign</td>\n",
       "      <td>1</td>\n",
       "    </tr>\n",
       "    <tr>\n",
       "      <th>8</th>\n",
       "      <td>measure</td>\n",
       "      <td>2</td>\n",
       "    </tr>\n",
       "    <tr>\n",
       "      <th>9</th>\n",
       "      <td>angle</td>\n",
       "      <td>4</td>\n",
       "    </tr>\n",
       "    <tr>\n",
       "      <th>10</th>\n",
       "      <td>shape</td>\n",
       "      <td>4</td>\n",
       "    </tr>\n",
       "    <tr>\n",
       "      <th>11</th>\n",
       "      <td>material</td>\n",
       "      <td>4</td>\n",
       "    </tr>\n",
       "    <tr>\n",
       "      <th>12</th>\n",
       "      <td>battery</td>\n",
       "      <td>5</td>\n",
       "    </tr>\n",
       "    <tr>\n",
       "      <th>13</th>\n",
       "      <td>power</td>\n",
       "      <td>5</td>\n",
       "    </tr>\n",
       "  </tbody>\n",
       "</table>\n",
       "</div>"
      ],
      "text/plain": [
       "   Unnamed: 0  category\n",
       "0    lasercut         1\n",
       "1     3dprint         2\n",
       "2    woodtool         3\n",
       "3      design         1\n",
       "4       debug         4\n",
       "5       trial         4\n",
       "6        help         4\n",
       "7    2ddesign         1\n",
       "8     measure         2\n",
       "9       angle         4\n",
       "10     shape          4\n",
       "11   material         4\n",
       "12    battery         5\n",
       "13      power         5"
      ]
     },
     "execution_count": 29,
     "metadata": {},
     "output_type": "execute_result"
    }
   ],
   "source": [
    "# Week 1\n",
    "# Extract the header and second row as lists\n",
    "header = df2.iloc[0, 1:].tolist()\n",
    "data_1 = df2.iloc[1, 1:].tolist()\n",
    "\n",
    "print(header)\n",
    "print(\"=====================\")\n",
    "print(data_1)\n",
    "df1"
   ]
  },
  {
   "cell_type": "code",
   "execution_count": 30,
   "id": "14492f15-3c2c-44ac-8ea2-a9ddb2cb2dd5",
   "metadata": {},
   "outputs": [
    {
     "name": "stdout",
     "output_type": "stream",
     "text": [
      "[1, 2, 3, 1, 4, 4, 4, 1, 2, 4, 4, 4, 5, 5]\n",
      "===========================================\n",
      "{'lasercut': 1, '3dprint': 2, 'woodtool': 3, 'design': 1, 'debug': 4, 'trial': 4, 'help': 4, '2ddesign': 1, 'measure': 2, 'angle': 4, 'shape ': 4, 'material': 4, 'battery': 5, 'power': 5}\n"
     ]
    }
   ],
   "source": [
    "category = df1.iloc[:,1].values.tolist()\n",
    "print(category)\n",
    "\n",
    "print(\"===========================================\")\n",
    "\n",
    "cat_mapping = {knowledge:int(cat) for knowledge,cat in zip(df1['Unnamed: 0'], df1['category'])}\n",
    "print(cat_mapping)"
   ]
  },
  {
   "cell_type": "code",
   "execution_count": 31,
   "id": "f6b17218-b56a-4f55-850c-2ba16d7ccacd",
   "metadata": {},
   "outputs": [
    {
     "name": "stdout",
     "output_type": "stream",
     "text": [
      "Local cdn resources have problems on chrome/safari when used in jupyter-notebook. \n"
     ]
    },
    {
     "data": {
      "text/html": [
       "\n",
       "        <iframe\n",
       "            width=\"100%\"\n",
       "            height=\"600px\"\n",
       "            src=\"nodes1.html\"\n",
       "            frameborder=\"0\"\n",
       "            allowfullscreen\n",
       "            \n",
       "        ></iframe>\n",
       "        "
      ],
      "text/plain": [
       "<IPython.lib.display.IFrame at 0x7fb9d14e3580>"
      ]
     },
     "execution_count": 31,
     "metadata": {},
     "output_type": "execute_result"
    }
   ],
   "source": [
    "# Create a Pyvis network object\n",
    "net = Network(notebook=True)\n",
    "        \n",
    "for i in range(len(data_1)):\n",
    "    node_id = str(i)\n",
    "    node_label = header[i]\n",
    "    node_value = data_1[i]\n",
    "    node_cate = category[i]\n",
    "    if node_value == 1:\n",
    "        net.add_node(node_id, label=node_label)\n",
    "        \n",
    "net.show(\"nodes1.html\")"
   ]
  },
  {
   "cell_type": "code",
   "execution_count": 32,
   "id": "ecd108f1-1a43-42f2-8e43-61e13c30f42b",
   "metadata": {},
   "outputs": [
    {
     "data": {
      "text/html": [
       "\n",
       "        <iframe\n",
       "            width=\"100%\"\n",
       "            height=\"600px\"\n",
       "            src=\"edges1.html\"\n",
       "            frameborder=\"0\"\n",
       "            allowfullscreen\n",
       "            \n",
       "        ></iframe>\n",
       "        "
      ],
      "text/plain": [
       "<IPython.lib.display.IFrame at 0x7fb9d4a32e80>"
      ]
     },
     "execution_count": 32,
     "metadata": {},
     "output_type": "execute_result"
    }
   ],
   "source": [
    "for node1 in net.nodes:\n",
    "    for node2 in net.nodes:\n",
    "        if cat_mapping[node1['label']] == cat_mapping[node2['label']] and node1['id'] != node2['id']:\n",
    "            net.add_edge(node1['id'], node2['id'])\n",
    "\n",
    "# Display the network\n",
    "net.show('edges1.html')"
   ]
  },
  {
   "cell_type": "code",
   "execution_count": 33,
   "id": "1432ae01-45ed-4836-8cc4-1a347541ddad",
   "metadata": {},
   "outputs": [
    {
     "name": "stdout",
     "output_type": "stream",
     "text": [
      "[0, 0, 1, 1, 1, 0, 0, 0, 0, 0, 1, 1, 1, 1]\n"
     ]
    }
   ],
   "source": [
    "# Week 2\n",
    "# Extract the values of week 2 (week 2 row) as a list\n",
    "data_2 = df2.iloc[2, 1:].tolist()\n",
    "print(data_2)"
   ]
  },
  {
   "cell_type": "code",
   "execution_count": 34,
   "id": "c8483fd1-a36e-452c-8245-d1033c44e8ed",
   "metadata": {},
   "outputs": [
    {
     "name": "stdout",
     "output_type": "stream",
     "text": [
      "Local cdn resources have problems on chrome/safari when used in jupyter-notebook. \n"
     ]
    },
    {
     "data": {
      "text/html": [
       "\n",
       "        <iframe\n",
       "            width=\"100%\"\n",
       "            height=\"600px\"\n",
       "            src=\"nodes2.html\"\n",
       "            frameborder=\"0\"\n",
       "            allowfullscreen\n",
       "            \n",
       "        ></iframe>\n",
       "        "
      ],
      "text/plain": [
       "<IPython.lib.display.IFrame at 0x7fb9d14e38e0>"
      ]
     },
     "execution_count": 34,
     "metadata": {},
     "output_type": "execute_result"
    }
   ],
   "source": [
    "# Create a Pyvis network object\n",
    "net = Network(notebook=True)\n",
    "        \n",
    "for i in range(len(data_2)):\n",
    "    node_id = str(i)\n",
    "    node_label = header[i]\n",
    "    node_value = data_2[i]\n",
    "    node_cate = category[i]\n",
    "    if node_value == 1:\n",
    "        net.add_node(node_id, label=node_label)\n",
    "        \n",
    "net.show(\"nodes2.html\")"
   ]
  },
  {
   "cell_type": "code",
   "execution_count": 35,
   "id": "48479442-fdaa-421a-893f-8b13daeeb789",
   "metadata": {},
   "outputs": [
    {
     "data": {
      "text/html": [
       "\n",
       "        <iframe\n",
       "            width=\"100%\"\n",
       "            height=\"600px\"\n",
       "            src=\"edges2.html\"\n",
       "            frameborder=\"0\"\n",
       "            allowfullscreen\n",
       "            \n",
       "        ></iframe>\n",
       "        "
      ],
      "text/plain": [
       "<IPython.lib.display.IFrame at 0x7fb9c0cc4250>"
      ]
     },
     "execution_count": 35,
     "metadata": {},
     "output_type": "execute_result"
    }
   ],
   "source": [
    "for node1 in net.nodes:\n",
    "    for node2 in net.nodes:\n",
    "        if cat_mapping[node1['label']] == cat_mapping[node2['label']] and node1['id'] != node2['id']:\n",
    "            net.add_edge(node1['id'], node2['id'])\n",
    "\n",
    "# Display the network\n",
    "net.show('edges2.html')"
   ]
  },
  {
   "cell_type": "code",
   "execution_count": 36,
   "id": "a867db7b-af28-48bb-9c74-6e4365be8cd5",
   "metadata": {},
   "outputs": [
    {
     "name": "stdout",
     "output_type": "stream",
     "text": [
      "[1, 0, 1, 0, 1, 1, 0, 1, 1, 1, 1, 1, 0, 1]\n"
     ]
    }
   ],
   "source": [
    "# Week 3\n",
    "# Extract the values of week 3 (week 3 row) as a list\n",
    "data_3 = df2.iloc[3, 1:].tolist()\n",
    "print(data_3)"
   ]
  },
  {
   "cell_type": "code",
   "execution_count": 37,
   "id": "e7dd7e64-72c9-4da1-8e9b-09bdd7b73c7b",
   "metadata": {},
   "outputs": [
    {
     "name": "stdout",
     "output_type": "stream",
     "text": [
      "Local cdn resources have problems on chrome/safari when used in jupyter-notebook. \n"
     ]
    },
    {
     "data": {
      "text/html": [
       "\n",
       "        <iframe\n",
       "            width=\"100%\"\n",
       "            height=\"600px\"\n",
       "            src=\"nodes3.html\"\n",
       "            frameborder=\"0\"\n",
       "            allowfullscreen\n",
       "            \n",
       "        ></iframe>\n",
       "        "
      ],
      "text/plain": [
       "<IPython.lib.display.IFrame at 0x7fb9d42fad00>"
      ]
     },
     "execution_count": 37,
     "metadata": {},
     "output_type": "execute_result"
    }
   ],
   "source": [
    "# Create a Pyvis network object\n",
    "net = Network(notebook=True)\n",
    "        \n",
    "for i in range(len(data_3)):\n",
    "    node_id = str(i)\n",
    "    node_label = header[i]\n",
    "    node_value = data_3[i]\n",
    "    if node_value == 1:\n",
    "        net.add_node(node_id, label=node_label)\n",
    "        \n",
    "net.show(\"nodes3.html\")"
   ]
  },
  {
   "cell_type": "code",
   "execution_count": 38,
   "id": "720954f3-154a-4973-82de-4595e27fb0a1",
   "metadata": {},
   "outputs": [
    {
     "data": {
      "text/html": [
       "\n",
       "        <iframe\n",
       "            width=\"100%\"\n",
       "            height=\"600px\"\n",
       "            src=\"edges3.html\"\n",
       "            frameborder=\"0\"\n",
       "            allowfullscreen\n",
       "            \n",
       "        ></iframe>\n",
       "        "
      ],
      "text/plain": [
       "<IPython.lib.display.IFrame at 0x7fb9d4b194c0>"
      ]
     },
     "execution_count": 38,
     "metadata": {},
     "output_type": "execute_result"
    }
   ],
   "source": [
    "for node1 in net.nodes:\n",
    "    for node2 in net.nodes:\n",
    "        if cat_mapping[node1['label']] == cat_mapping[node2['label']] and node1['id'] != node2['id']:\n",
    "            net.add_edge(node1['id'], node2['id'])\n",
    "\n",
    "# Display the network\n",
    "net.show('edges3.html')"
   ]
  },
  {
   "cell_type": "code",
   "execution_count": 39,
   "id": "515507a0-742e-4a2a-b1f7-412c623f586d",
   "metadata": {},
   "outputs": [],
   "source": [
    "# Week 1 and Week 2\n",
    "\n",
    "# Extract the header and second row as lists\n",
    "#first_two_weeks = df2.iloc[1:3, 1:]\n",
    "\n",
    "#print(first_two_weeks)\n",
    "\n",
    "#new_row = dfirst_two_weeks.iloc[0] + df.iloc[1]"
   ]
  },
  {
   "cell_type": "code",
   "execution_count": 40,
   "id": "2b2b88ac-6302-46ca-9847-bb363659f2e8",
   "metadata": {},
   "outputs": [
    {
     "name": "stdout",
     "output_type": "stream",
     "text": [
      "Requirement already satisfied: dash in /Users/yyaxuan/opt/anaconda3/lib/python3.9/site-packages (2.8.1)\n",
      "Requirement already satisfied: dash-table==5.0.0 in /Users/yyaxuan/opt/anaconda3/lib/python3.9/site-packages (from dash) (5.0.0)\n",
      "Requirement already satisfied: Flask>=1.0.4 in /Users/yyaxuan/opt/anaconda3/lib/python3.9/site-packages (from dash) (1.1.2)\n",
      "Requirement already satisfied: dash-html-components==2.0.0 in /Users/yyaxuan/opt/anaconda3/lib/python3.9/site-packages (from dash) (2.0.0)\n",
      "Requirement already satisfied: dash-core-components==2.0.0 in /Users/yyaxuan/opt/anaconda3/lib/python3.9/site-packages (from dash) (2.0.0)\n",
      "Requirement already satisfied: plotly>=5.0.0 in /Users/yyaxuan/opt/anaconda3/lib/python3.9/site-packages (from dash) (5.9.0)\n",
      "Requirement already satisfied: Werkzeug>=0.15 in /Users/yyaxuan/opt/anaconda3/lib/python3.9/site-packages (from Flask>=1.0.4->dash) (2.0.3)\n",
      "Requirement already satisfied: click>=5.1 in /Users/yyaxuan/opt/anaconda3/lib/python3.9/site-packages (from Flask>=1.0.4->dash) (8.0.4)\n",
      "Requirement already satisfied: Jinja2>=2.10.1 in /Users/yyaxuan/opt/anaconda3/lib/python3.9/site-packages (from Flask>=1.0.4->dash) (2.11.3)\n",
      "Requirement already satisfied: itsdangerous>=0.24 in /Users/yyaxuan/opt/anaconda3/lib/python3.9/site-packages (from Flask>=1.0.4->dash) (2.0.1)\n",
      "Requirement already satisfied: tenacity>=6.2.0 in /Users/yyaxuan/opt/anaconda3/lib/python3.9/site-packages (from plotly>=5.0.0->dash) (8.0.1)\n",
      "Requirement already satisfied: MarkupSafe>=0.23 in /Users/yyaxuan/opt/anaconda3/lib/python3.9/site-packages (from Jinja2>=2.10.1->Flask>=1.0.4->dash) (2.0.1)\n",
      "Note: you may need to restart the kernel to use updated packages.\n"
     ]
    }
   ],
   "source": [
    "pip install dash"
   ]
  },
  {
   "cell_type": "code",
   "execution_count": 41,
   "id": "286fb37d-e31e-430c-a99e-9a2420b819af",
   "metadata": {},
   "outputs": [],
   "source": [
    "# Separate Graphs\n",
    "#############################################"
   ]
  },
  {
   "cell_type": "code",
   "execution_count": 42,
   "id": "80a00ef4-b998-460e-8c29-f90d17a71ba8",
   "metadata": {},
   "outputs": [],
   "source": [
    "# Create a Dash app\n",
    "app = dash.Dash(__name__)"
   ]
  },
  {
   "cell_type": "code",
   "execution_count": 43,
   "id": "7a29ed05-f1db-4fac-ac19-7e687ce2a6ec",
   "metadata": {},
   "outputs": [],
   "source": [
    "# Define the initial HTML content to display in the Iframe component\n",
    "initial_html = open('edges1.html', 'r').read()"
   ]
  },
  {
   "cell_type": "code",
   "execution_count": 44,
   "id": "47faca20-ed3d-4189-a20e-d48f8e59cca3",
   "metadata": {},
   "outputs": [],
   "source": [
    "with open('edges2.html', 'r') as f:\n",
    "    second_html = f.read()\n",
    "    \n",
    "with open('edges3.html', 'r') as f:\n",
    "    third_html = f.read()"
   ]
  },
  {
   "cell_type": "code",
   "execution_count": 45,
   "id": "962f141c-7d56-4cd3-b59d-593db46157d0",
   "metadata": {},
   "outputs": [],
   "source": [
    "# Define the app layout with an Iframe component and a slider bar\n",
    "app.layout = html.Div([\n",
    "     html.H1(children=\"Student's Name\"),\n",
    "        html.P(\"Show your knowledge point interaction from Week 1 to Week 3\"),\n",
    "    html.Iframe(id='html-iframe', srcDoc=initial_html, height='500', width='60%'),\n",
    "    html.Br(),\n",
    "    html.Br(),\n",
    "    html.Div([\n",
    "        html.Label('Select a week:'),\n",
    "        dcc.Slider(\n",
    "            id='my-slider',\n",
    "          min=0,\n",
    "            max=2,\n",
    "            value=1,\n",
    "            step=1,\n",
    "           marks={0: 'Week 1', 1: 'Week 2', 2: 'Week 3'}\n",
    "        )\n",
    "    ])\n",
    "])\n"
   ]
  },
  {
   "cell_type": "code",
   "execution_count": 46,
   "id": "bf32b6ad-be39-43c2-a941-5a1f76670433",
   "metadata": {},
   "outputs": [],
   "source": [
    "# Define the callback function for the slider bar\n",
    "@app.callback(\n",
    "    Output('html-iframe', 'srcDoc'),\n",
    "    Input('my-slider', 'value')\n",
    ")\n",
    "def update_output(value):\n",
    "    # Define the HTML content to display based on the value of the slider bar\n",
    "    if value == 0:\n",
    "        return open('edges1.html', 'r').read()\n",
    "    elif value == 1:\n",
    "        return open('edges2.html', 'r').read()\n",
    "    elif value == 2:\n",
    "        return open('edges3.html', 'r').read()"
   ]
  },
  {
   "cell_type": "code",
   "execution_count": null,
   "id": "0c7342a8-eb82-4b9f-b4b7-e40eb705df54",
   "metadata": {},
   "outputs": [
    {
     "name": "stdout",
     "output_type": "stream",
     "text": [
      "Dash is running on http://127.0.0.1:8050/\n",
      "\n",
      " * Serving Flask app \"__main__\" (lazy loading)\n",
      " * Environment: production\n",
      "\u001b[31m   WARNING: This is a development server. Do not use it in a production deployment.\u001b[0m\n",
      "\u001b[2m   Use a production WSGI server instead.\u001b[0m\n",
      " * Debug mode: off\n"
     ]
    },
    {
     "name": "stderr",
     "output_type": "stream",
     "text": [
      " * Running on http://127.0.0.1:8050/ (Press CTRL+C to quit)\n",
      "127.0.0.1 - - [28/Feb/2023 11:00:05] \"GET / HTTP/1.1\" 200 -\n",
      "127.0.0.1 - - [28/Feb/2023 11:00:05] \"GET /_dash-layout HTTP/1.1\" 200 -\n",
      "127.0.0.1 - - [28/Feb/2023 11:00:05] \"GET /_dash-dependencies HTTP/1.1\" 200 -\n",
      "127.0.0.1 - - [28/Feb/2023 11:00:05] \"GET /_dash-component-suites/dash/dcc/async-slider.js HTTP/1.1\" 200 -\n",
      "127.0.0.1 - - [28/Feb/2023 11:00:05] \"POST /_dash-update-component HTTP/1.1\" 200 -\n",
      "127.0.0.1 - - [28/Feb/2023 11:00:05] \"GET /lib/bindings/utils.js HTTP/1.1\" 200 -\n",
      "127.0.0.1 - - [28/Feb/2023 11:00:05] \"GET /lib/bindings/utils.js HTTP/1.1\" 200 -\n",
      "127.0.0.1 - - [28/Feb/2023 11:09:25] \"POST /_dash-update-component HTTP/1.1\" 200 -\n",
      "127.0.0.1 - - [28/Feb/2023 11:09:26] \"GET /lib/bindings/utils.js HTTP/1.1\" 200 -\n",
      "127.0.0.1 - - [28/Feb/2023 11:09:27] \"POST /_dash-update-component HTTP/1.1\" 200 -\n",
      "127.0.0.1 - - [28/Feb/2023 11:09:27] \"GET /lib/bindings/utils.js HTTP/1.1\" 200 -\n",
      "127.0.0.1 - - [28/Feb/2023 11:09:29] \"POST /_dash-update-component HTTP/1.1\" 200 -\n",
      "127.0.0.1 - - [28/Feb/2023 11:09:29] \"GET /lib/bindings/utils.js HTTP/1.1\" 200 -\n",
      "127.0.0.1 - - [28/Feb/2023 11:12:06] \"POST /_dash-update-component HTTP/1.1\" 200 -\n",
      "127.0.0.1 - - [28/Feb/2023 11:12:06] \"GET /lib/bindings/utils.js HTTP/1.1\" 200 -\n",
      "127.0.0.1 - - [28/Feb/2023 11:12:08] \"POST /_dash-update-component HTTP/1.1\" 200 -\n",
      "127.0.0.1 - - [28/Feb/2023 11:12:08] \"GET /lib/bindings/utils.js HTTP/1.1\" 200 -\n",
      "127.0.0.1 - - [28/Feb/2023 11:12:10] \"POST /_dash-update-component HTTP/1.1\" 200 -\n",
      "127.0.0.1 - - [28/Feb/2023 11:12:10] \"GET /lib/bindings/utils.js HTTP/1.1\" 200 -\n",
      "127.0.0.1 - - [28/Feb/2023 11:12:16] \"POST /_dash-update-component HTTP/1.1\" 200 -\n",
      "127.0.0.1 - - [28/Feb/2023 11:12:16] \"GET /lib/bindings/utils.js HTTP/1.1\" 200 -\n",
      "127.0.0.1 - - [28/Feb/2023 11:12:18] \"POST /_dash-update-component HTTP/1.1\" 200 -\n",
      "127.0.0.1 - - [28/Feb/2023 11:12:18] \"GET /lib/bindings/utils.js HTTP/1.1\" 200 -\n",
      "127.0.0.1 - - [28/Feb/2023 11:12:19] \"POST /_dash-update-component HTTP/1.1\" 200 -\n",
      "127.0.0.1 - - [28/Feb/2023 11:12:19] \"GET /lib/bindings/utils.js HTTP/1.1\" 200 -\n",
      "127.0.0.1 - - [28/Feb/2023 11:12:20] \"POST /_dash-update-component HTTP/1.1\" 200 -\n",
      "127.0.0.1 - - [28/Feb/2023 11:12:20] \"GET /lib/bindings/utils.js HTTP/1.1\" 200 -\n",
      "127.0.0.1 - - [28/Feb/2023 11:14:19] \"POST /_dash-update-component HTTP/1.1\" 200 -\n",
      "127.0.0.1 - - [28/Feb/2023 11:14:19] \"GET /lib/bindings/utils.js HTTP/1.1\" 200 -\n",
      "127.0.0.1 - - [28/Feb/2023 11:14:22] \"POST /_dash-update-component HTTP/1.1\" 200 -\n",
      "127.0.0.1 - - [28/Feb/2023 11:14:22] \"GET /lib/bindings/utils.js HTTP/1.1\" 200 -\n",
      "127.0.0.1 - - [28/Feb/2023 11:14:31] \"POST /_dash-update-component HTTP/1.1\" 200 -\n",
      "127.0.0.1 - - [28/Feb/2023 11:14:31] \"GET /lib/bindings/utils.js HTTP/1.1\" 200 -\n",
      "127.0.0.1 - - [28/Feb/2023 11:14:33] \"POST /_dash-update-component HTTP/1.1\" 200 -\n",
      "127.0.0.1 - - [28/Feb/2023 11:14:33] \"GET /lib/bindings/utils.js HTTP/1.1\" 200 -\n",
      "127.0.0.1 - - [28/Feb/2023 11:15:16] \"POST /_dash-update-component HTTP/1.1\" 200 -\n",
      "127.0.0.1 - - [28/Feb/2023 11:15:16] \"GET /lib/bindings/utils.js HTTP/1.1\" 200 -\n",
      "127.0.0.1 - - [05/Mar/2023 13:37:30] \"GET / HTTP/1.1\" 200 -\n",
      "127.0.0.1 - - [05/Mar/2023 13:37:30] \"GET /_dash-component-suites/dash/deps/polyfill@7.v2_8_1m1677342896.12.1.min.js HTTP/1.1\" 200 -\n",
      "127.0.0.1 - - [05/Mar/2023 13:37:30] \"GET /_dash-component-suites/dash/deps/react-dom@16.v2_8_1m1677342896.14.0.min.js HTTP/1.1\" 200 -\n",
      "127.0.0.1 - - [05/Mar/2023 13:37:30] \"GET /_dash-component-suites/dash/deps/react@16.v2_8_1m1677342896.14.0.min.js HTTP/1.1\" 200 -\n",
      "127.0.0.1 - - [05/Mar/2023 13:37:30] \"GET /_dash-component-suites/dash/deps/prop-types@15.v2_8_1m1677342896.8.1.min.js HTTP/1.1\" 200 -\n",
      "127.0.0.1 - - [05/Mar/2023 13:37:30] \"GET /_dash-component-suites/dash/dash-renderer/build/dash_renderer.v2_8_1m1677342896.min.js HTTP/1.1\" 200 -\n",
      "127.0.0.1 - - [05/Mar/2023 13:37:30] \"GET /_dash-component-suites/dash/dcc/dash_core_components.v2_8_0m1677342896.js HTTP/1.1\" 200 -\n",
      "127.0.0.1 - - [05/Mar/2023 13:37:30] \"GET /_dash-component-suites/dash/dcc/dash_core_components-shared.v2_8_0m1677342896.js HTTP/1.1\" 200 -\n",
      "127.0.0.1 - - [05/Mar/2023 13:37:30] \"GET /_dash-component-suites/dash/dash_table/bundle.v5_2_2m1677342896.js HTTP/1.1\" 200 -\n",
      "127.0.0.1 - - [05/Mar/2023 13:37:30] \"GET /_dash-component-suites/dash/html/dash_html_components.v2_0_8m1677342896.min.js HTTP/1.1\" 200 -\n",
      "127.0.0.1 - - [05/Mar/2023 13:37:30] \"GET /_dash-layout HTTP/1.1\" 200 -\n",
      "127.0.0.1 - - [05/Mar/2023 13:37:30] \"GET /_dash-dependencies HTTP/1.1\" 200 -\n",
      "127.0.0.1 - - [05/Mar/2023 13:37:30] \"GET /_dash-component-suites/dash/dcc/async-slider.js HTTP/1.1\" 200 -\n",
      "127.0.0.1 - - [05/Mar/2023 13:37:30] \"GET /lib/bindings/utils.js HTTP/1.1\" 200 -\n",
      "127.0.0.1 - - [05/Mar/2023 13:37:30] \"POST /_dash-update-component HTTP/1.1\" 200 -\n",
      "127.0.0.1 - - [05/Mar/2023 13:37:30] \"GET /lib/bindings/utils.js HTTP/1.1\" 200 -\n",
      "127.0.0.1 - - [05/Mar/2023 13:37:32] \"POST /_dash-update-component HTTP/1.1\" 200 -\n",
      "127.0.0.1 - - [05/Mar/2023 13:37:32] \"GET /lib/bindings/utils.js HTTP/1.1\" 200 -\n"
     ]
    }
   ],
   "source": [
    "# Run the app\n",
    "if __name__ == '__main__':\n",
    "    app.run_server()"
   ]
  },
  {
   "cell_type": "code",
   "execution_count": null,
   "id": "feb63b9b-e99b-4007-ae3a-2eed4fef974a",
   "metadata": {},
   "outputs": [],
   "source": [
    "# Aggregate Graphs\n",
    "#############################################"
   ]
  },
  {
   "cell_type": "code",
   "execution_count": 17,
   "id": "19cd8150-f77d-49ad-b870-e00f2883b7a0",
   "metadata": {},
   "outputs": [],
   "source": [
    "import dash\n",
    "from dash import dcc\n",
    "from dash import html\n",
    "import plotly.express as px\n",
    "import pandas as pd\n",
    "from dash.dependencies import Input, Output"
   ]
  },
  {
   "cell_type": "code",
   "execution_count": 19,
   "id": "ce798c8d-30f3-4281-8c8c-687de2b31461",
   "metadata": {},
   "outputs": [],
   "source": [
    "# Load the contents of the two HTML files\n",
    "with open('edges1.html') as file1:\n",
    "    file1_contents = file1.read()\n",
    "\n",
    "with open('edges2.html') as file2:\n",
    "    file2_contents = file2.read()\n",
    "    \n",
    "with open('edges3.html') as file3:\n",
    "    file3_contents = file3.read()\n",
    "\n",
    "# Concatenate the contents of both files\n",
    "merged_contents = file1_contents + file2_contents\n",
    "\n",
    "# Concatenate the contents of all the files\n",
    "merged_contents_2 = file1_contents + file2_contents + file3_contents"
   ]
  },
  {
   "cell_type": "code",
   "execution_count": 20,
   "id": "e0203092-63bc-4216-89dc-70ece994b0da",
   "metadata": {},
   "outputs": [],
   "source": [
    "# Define the initial HTML content to display in the Iframe component\n",
    "initial_html = open('edges1.html', 'r').read()"
   ]
  },
  {
   "cell_type": "code",
   "execution_count": 26,
   "id": "bc92b25b-9d03-4672-9a71-38ac0e3a8585",
   "metadata": {},
   "outputs": [],
   "source": [
    "# Define a Dash app and layout that contains the two files and a slider\n",
    "app = dash.Dash(__name__)\n",
    "app.layout = html.Div([\n",
    "        html.H1(children=\"Student's Name\"),\n",
    "        html.P(\"Show your Aggregate knowledge point interaction from Week 1 to Week 3\"),\n",
    "    html.Iframe(id='html-iframe', srcDoc=initial_html, height='500', width='60%'),\n",
    "    html.Br(),\n",
    "    html.Br(),\n",
    "    html.Label('Select a week:'),\n",
    "    dcc.Slider(\n",
    "        id='my-slider',\n",
    "        min=0,\n",
    "        max=2,\n",
    "        step=1,\n",
    "        value=1,\n",
    "         marks={0: 'Week 1', 1: 'Week 2', 2: 'Week 3'}\n",
    "    ),\n",
    "])"
   ]
  },
  {
   "cell_type": "code",
   "execution_count": 31,
   "id": "ae493bc3-8133-48c3-9e30-a33f26ee3336",
   "metadata": {},
   "outputs": [],
   "source": [
    "# Define the callback function for the slider bar\n",
    "@app.callback(\n",
    "    Output('html-iframe', 'srcDoc'),\n",
    "    Input('my-slider', 'value')\n",
    ")\n",
    "def update_output(value):\n",
    "    # Define the HTML content to display based on the value of the slider bar \n",
    "    if value == 0:\n",
    "        return open('edges1.html', 'r').read()\n",
    "    elif value == 1:\n",
    "        return merged_contents, merged_contents\n",
    "    elif value == 2:\n",
    "        return merged_contents_2, merged_contents_2"
   ]
  },
  {
   "cell_type": "code",
   "execution_count": 32,
   "id": "b46cb076-b6f0-4be8-8f61-b97b90fcc0ad",
   "metadata": {},
   "outputs": [
    {
     "name": "stdout",
     "output_type": "stream",
     "text": [
      "Dash is running on http://127.0.0.1:8050/\n",
      "\n",
      "Dash is running on http://127.0.0.1:8050/\n",
      "\n",
      " * Serving Flask app \"__main__\" (lazy loading)\n",
      " * Environment: production\n",
      "\u001b[31m   WARNING: This is a development server. Do not use it in a production deployment.\u001b[0m\n",
      "\u001b[2m   Use a production WSGI server instead.\u001b[0m\n",
      " * Debug mode: off\n"
     ]
    },
    {
     "name": "stderr",
     "output_type": "stream",
     "text": [
      " * Running on http://127.0.0.1:8050/ (Press CTRL+C to quit)\n",
      "127.0.0.1 - - [28/Feb/2023 00:34:02] \"GET / HTTP/1.1\" 200 -\n",
      "127.0.0.1 - - [28/Feb/2023 00:34:02] \"GET /_dash-layout HTTP/1.1\" 200 -\n",
      "127.0.0.1 - - [28/Feb/2023 00:34:02] \"GET /_dash-dependencies HTTP/1.1\" 200 -\n",
      "127.0.0.1 - - [28/Feb/2023 00:34:02] \"GET /_dash-component-suites/dash/dcc/async-slider.js HTTP/1.1\" 200 -\n",
      "127.0.0.1 - - [28/Feb/2023 00:34:02] \"POST /_dash-update-component HTTP/1.1\" 200 -\n",
      "127.0.0.1 - - [28/Feb/2023 00:34:02] \"GET /lib/bindings/utils.js HTTP/1.1\" 200 -\n",
      "127.0.0.1 - - [28/Feb/2023 00:34:02] \"GET /lib/bindings/utils.js HTTP/1.1\" 200 -\n",
      "127.0.0.1 - - [28/Feb/2023 00:34:05] \"POST /_dash-update-component HTTP/1.1\" 200 -\n",
      "127.0.0.1 - - [28/Feb/2023 00:34:05] \"GET /lib/bindings/utils.js HTTP/1.1\" 200 -\n",
      "127.0.0.1 - - [28/Feb/2023 00:34:07] \"POST /_dash-update-component HTTP/1.1\" 200 -\n",
      "127.0.0.1 - - [28/Feb/2023 00:34:07] \"GET /lib/bindings/utils.js HTTP/1.1\" 200 -\n",
      "127.0.0.1 - - [28/Feb/2023 00:34:09] \"POST /_dash-update-component HTTP/1.1\" 200 -\n",
      "127.0.0.1 - - [28/Feb/2023 00:34:09] \"GET /lib/bindings/utils.js HTTP/1.1\" 200 -\n",
      "127.0.0.1 - - [28/Feb/2023 00:34:12] \"POST /_dash-update-component HTTP/1.1\" 200 -\n",
      "127.0.0.1 - - [28/Feb/2023 00:34:12] \"GET /lib/bindings/utils.js HTTP/1.1\" 200 -\n",
      "127.0.0.1 - - [28/Feb/2023 00:34:15] \"POST /_dash-update-component HTTP/1.1\" 200 -\n",
      "127.0.0.1 - - [28/Feb/2023 00:34:15] \"GET /lib/bindings/utils.js HTTP/1.1\" 200 -\n"
     ]
    }
   ],
   "source": [
    "# Run the app\n",
    "if __name__ == '__main__':\n",
    "    app.run_server()"
   ]
  },
  {
   "cell_type": "code",
   "execution_count": null,
   "id": "e094fd02-2b55-432a-8bff-aa94d9da0c5d",
   "metadata": {},
   "outputs": [],
   "source": [
    "####################################"
   ]
  },
  {
   "cell_type": "code",
   "execution_count": null,
   "id": "f9b61c54-5d79-4a33-9686-ddf0e939e72c",
   "metadata": {},
   "outputs": [],
   "source": []
  }
 ],
 "metadata": {
  "kernelspec": {
   "display_name": "Python 3 (ipykernel)",
   "language": "python",
   "name": "python3"
  },
  "language_info": {
   "codemirror_mode": {
    "name": "ipython",
    "version": 3
   },
   "file_extension": ".py",
   "mimetype": "text/x-python",
   "name": "python",
   "nbconvert_exporter": "python",
   "pygments_lexer": "ipython3",
   "version": "3.9.13"
  }
 },
 "nbformat": 4,
 "nbformat_minor": 5
}
